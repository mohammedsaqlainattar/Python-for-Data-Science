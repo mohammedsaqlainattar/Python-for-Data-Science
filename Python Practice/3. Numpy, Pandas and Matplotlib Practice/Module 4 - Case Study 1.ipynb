{
 "cells": [
  {
   "cell_type": "markdown",
   "metadata": {},
   "source": [
    "# Author : Mohammed Saqlain Attar"
   ]
  },
  {
   "cell_type": "markdown",
   "metadata": {},
   "source": [
    "## 1. Extract data from the givenSalaryGender CSV file and store the data from each column in a separate NumPy array"
   ]
  },
  {
   "cell_type": "code",
   "execution_count": 118,
   "metadata": {},
   "outputs": [],
   "source": [
    "import numpy as np\n",
    "import pandas as pd"
   ]
  },
  {
   "cell_type": "code",
   "execution_count": 2,
   "metadata": {},
   "outputs": [
    {
     "data": {
      "text/html": [
       "<div>\n",
       "<style scoped>\n",
       "    .dataframe tbody tr th:only-of-type {\n",
       "        vertical-align: middle;\n",
       "    }\n",
       "\n",
       "    .dataframe tbody tr th {\n",
       "        vertical-align: top;\n",
       "    }\n",
       "\n",
       "    .dataframe thead th {\n",
       "        text-align: right;\n",
       "    }\n",
       "</style>\n",
       "<table border=\"1\" class=\"dataframe\">\n",
       "  <thead>\n",
       "    <tr style=\"text-align: right;\">\n",
       "      <th></th>\n",
       "      <th>Salary</th>\n",
       "      <th>Gender</th>\n",
       "      <th>Age</th>\n",
       "      <th>PhD</th>\n",
       "    </tr>\n",
       "  </thead>\n",
       "  <tbody>\n",
       "    <tr>\n",
       "      <th>0</th>\n",
       "      <td>140.0</td>\n",
       "      <td>1</td>\n",
       "      <td>47</td>\n",
       "      <td>1</td>\n",
       "    </tr>\n",
       "    <tr>\n",
       "      <th>1</th>\n",
       "      <td>30.0</td>\n",
       "      <td>0</td>\n",
       "      <td>65</td>\n",
       "      <td>1</td>\n",
       "    </tr>\n",
       "    <tr>\n",
       "      <th>2</th>\n",
       "      <td>35.1</td>\n",
       "      <td>0</td>\n",
       "      <td>56</td>\n",
       "      <td>0</td>\n",
       "    </tr>\n",
       "    <tr>\n",
       "      <th>3</th>\n",
       "      <td>30.0</td>\n",
       "      <td>1</td>\n",
       "      <td>23</td>\n",
       "      <td>0</td>\n",
       "    </tr>\n",
       "    <tr>\n",
       "      <th>4</th>\n",
       "      <td>80.0</td>\n",
       "      <td>0</td>\n",
       "      <td>53</td>\n",
       "      <td>1</td>\n",
       "    </tr>\n",
       "    <tr>\n",
       "      <th>5</th>\n",
       "      <td>30.0</td>\n",
       "      <td>0</td>\n",
       "      <td>27</td>\n",
       "      <td>0</td>\n",
       "    </tr>\n",
       "    <tr>\n",
       "      <th>6</th>\n",
       "      <td>60.0</td>\n",
       "      <td>1</td>\n",
       "      <td>53</td>\n",
       "      <td>0</td>\n",
       "    </tr>\n",
       "    <tr>\n",
       "      <th>7</th>\n",
       "      <td>31.1</td>\n",
       "      <td>0</td>\n",
       "      <td>30</td>\n",
       "      <td>0</td>\n",
       "    </tr>\n",
       "    <tr>\n",
       "      <th>8</th>\n",
       "      <td>125.0</td>\n",
       "      <td>1</td>\n",
       "      <td>44</td>\n",
       "      <td>1</td>\n",
       "    </tr>\n",
       "    <tr>\n",
       "      <th>9</th>\n",
       "      <td>51.0</td>\n",
       "      <td>1</td>\n",
       "      <td>63</td>\n",
       "      <td>1</td>\n",
       "    </tr>\n",
       "  </tbody>\n",
       "</table>\n",
       "</div>"
      ],
      "text/plain": [
       "   Salary  Gender  Age  PhD\n",
       "0   140.0       1   47    1\n",
       "1    30.0       0   65    1\n",
       "2    35.1       0   56    0\n",
       "3    30.0       1   23    0\n",
       "4    80.0       0   53    1\n",
       "5    30.0       0   27    0\n",
       "6    60.0       1   53    0\n",
       "7    31.1       0   30    0\n",
       "8   125.0       1   44    1\n",
       "9    51.0       1   63    1"
      ]
     },
     "execution_count": 2,
     "metadata": {},
     "output_type": "execute_result"
    }
   ],
   "source": [
    "df_SalaryGender = pd.read_csv(r\"C:\\Users\\saqla\\Desktop\\Python Certification for Data Science\\Modules\\Module 4\\Dataset\\SalaryGender.csv\")\n",
    "df_SalaryGender.head(10)"
   ]
  },
  {
   "cell_type": "code",
   "execution_count": 3,
   "metadata": {},
   "outputs": [],
   "source": [
    "salary = np.array(df_SalaryGender['Salary'])\n",
    "Gender =np.array(df_SalaryGender['Gender'])\n",
    "Age = np.array(df_SalaryGender['Age'])\n",
    "PhD = np.array(df_SalaryGender['PhD'])"
   ]
  },
  {
   "cell_type": "code",
   "execution_count": 4,
   "metadata": {},
   "outputs": [
    {
     "name": "stdout",
     "output_type": "stream",
     "text": [
      "Salary [140.    30.    35.1   30.    80.    30.    60.    31.1  125.    51.\n",
      "   3.    46.   150.     3.   130.    15.   130.    84.   190.    74.\n",
      "  73.    10.    50.     7.     9.5   15.2   28.6   20.    72.    81.\n",
      " 100.    90.    90.    35.    30.    25.    52.     9.    63.    72.\n",
      "  16.    92.   106.     2.5    9.    32.    32.    55.    52.    28.\n",
      "  20.    14.7   22.3   34.8   84.    19.   160.    65.    55.     4.6\n",
      " 102.    20.    62.    55.    45.6   40.    24.    35.    48.    20.\n",
      "  40.7   15.     0.25 152.    39.8   12.    30.   120.     1.7   36.\n",
      "  96.    38.    90.     9.    25.8   22.    38.8   72.    89.    41.\n",
      "  89.    25.    52.   115.    66.    18.6  152.     1.8   35.     4.  ]\n",
      "Gender [1 0 0 1 0 0 1 0 1 1 1 1 1 1 1 0 1 0 1 1 0 0 0 0 0 1 1 0 0 1 0 0 0 1 0 1 0\n",
      " 0 1 1 1 0 1 1 0 0 0 1 1 0 0 0 1 0 0 1 1 0 0 1 1 1 0 1 1 0 0 1 0 0 0 1 0 1\n",
      " 0 0 1 1 1 1 1 0 1 1 0 0 0 1 1 0 1 0 1 0 0 1 1 1 0 0]\n",
      "Age [47 65 56 23 53 27 53 30 44 63 22 59 60 28 65 25 65 47 66 45 46 24 60 63\n",
      " 27 66 36 30 51 65 45 52 54 30 52 26 49 22 34 60 28 58 77 67 27 48 45 49\n",
      " 36 65 32 49 67 22 49 43 61 43 52 51 66 29 62 56 61 56 41 24 60 43 57 23\n",
      " 53 71 20 27 69 58 37 32 33 32 60 71 30 62 54 42 62 51 71 29 55 54 55 26\n",
      " 56 28 44 24]\n",
      "PhD [1 1 0 0 1 0 0 0 1 1 0 0 1 0 0 0 0 1 1 1 0 0 0 0 0 1 1 0 1 1 1 1 1 0 0 0 0\n",
      " 0 1 0 0 1 1 0 0 1 0 1 0 1 0 0 0 0 1 0 1 1 0 0 1 0 0 1 0 0 0 0 0 0 0 0 0 1\n",
      " 0 0 1 1 0 1 1 1 0 0 0 0 0 1 0 1 1 0 1 0 1 0 1 0 0 0]\n"
     ]
    }
   ],
   "source": [
    "print('Salary',salary)\n",
    "print('Gender',Gender)\n",
    "print('Age',Age)\n",
    "print('PhD',PhD)"
   ]
  },
  {
   "cell_type": "markdown",
   "metadata": {},
   "source": [
    "## 2.Find:\n",
    "## 1. The number of men with a PhD\n",
    "##             2. The number of women with a PhD"
   ]
  },
  {
   "cell_type": "code",
   "execution_count": 5,
   "metadata": {},
   "outputs": [
    {
     "data": {
      "text/html": [
       "<div>\n",
       "<style scoped>\n",
       "    .dataframe tbody tr th:only-of-type {\n",
       "        vertical-align: middle;\n",
       "    }\n",
       "\n",
       "    .dataframe tbody tr th {\n",
       "        vertical-align: top;\n",
       "    }\n",
       "\n",
       "    .dataframe thead th {\n",
       "        text-align: right;\n",
       "    }\n",
       "</style>\n",
       "<table border=\"1\" class=\"dataframe\">\n",
       "  <thead>\n",
       "    <tr style=\"text-align: right;\">\n",
       "      <th></th>\n",
       "      <th>Salary</th>\n",
       "      <th>Gender</th>\n",
       "      <th>Age</th>\n",
       "      <th>PhD</th>\n",
       "    </tr>\n",
       "  </thead>\n",
       "  <tbody>\n",
       "    <tr>\n",
       "      <th>0</th>\n",
       "      <td>140.0</td>\n",
       "      <td>1</td>\n",
       "      <td>47</td>\n",
       "      <td>1</td>\n",
       "    </tr>\n",
       "    <tr>\n",
       "      <th>8</th>\n",
       "      <td>125.0</td>\n",
       "      <td>1</td>\n",
       "      <td>44</td>\n",
       "      <td>1</td>\n",
       "    </tr>\n",
       "    <tr>\n",
       "      <th>9</th>\n",
       "      <td>51.0</td>\n",
       "      <td>1</td>\n",
       "      <td>63</td>\n",
       "      <td>1</td>\n",
       "    </tr>\n",
       "    <tr>\n",
       "      <th>12</th>\n",
       "      <td>150.0</td>\n",
       "      <td>1</td>\n",
       "      <td>60</td>\n",
       "      <td>1</td>\n",
       "    </tr>\n",
       "    <tr>\n",
       "      <th>18</th>\n",
       "      <td>190.0</td>\n",
       "      <td>1</td>\n",
       "      <td>66</td>\n",
       "      <td>1</td>\n",
       "    </tr>\n",
       "  </tbody>\n",
       "</table>\n",
       "</div>"
      ],
      "text/plain": [
       "    Salary  Gender  Age  PhD\n",
       "0    140.0       1   47    1\n",
       "8    125.0       1   44    1\n",
       "9     51.0       1   63    1\n",
       "12   150.0       1   60    1\n",
       "18   190.0       1   66    1"
      ]
     },
     "execution_count": 5,
     "metadata": {},
     "output_type": "execute_result"
    }
   ],
   "source": [
    "# 1. The number of men with a PhD\n",
    "\n",
    "filter = (df_SalaryGender['Gender'] == 1) & (df_SalaryGender['PhD'] == 1)\n",
    "df_men = df_SalaryGender.loc[filter]\n",
    "df_men.head(5)"
   ]
  },
  {
   "cell_type": "code",
   "execution_count": 6,
   "metadata": {},
   "outputs": [
    {
     "name": "stdout",
     "output_type": "stream",
     "text": [
      "The number of men with a PhD: 24\n"
     ]
    }
   ],
   "source": [
    "print('The number of men with a PhD:',df_men['PhD'].count())"
   ]
  },
  {
   "cell_type": "code",
   "execution_count": 7,
   "metadata": {},
   "outputs": [
    {
     "data": {
      "text/html": [
       "<div>\n",
       "<style scoped>\n",
       "    .dataframe tbody tr th:only-of-type {\n",
       "        vertical-align: middle;\n",
       "    }\n",
       "\n",
       "    .dataframe tbody tr th {\n",
       "        vertical-align: top;\n",
       "    }\n",
       "\n",
       "    .dataframe thead th {\n",
       "        text-align: right;\n",
       "    }\n",
       "</style>\n",
       "<table border=\"1\" class=\"dataframe\">\n",
       "  <thead>\n",
       "    <tr style=\"text-align: right;\">\n",
       "      <th></th>\n",
       "      <th>Salary</th>\n",
       "      <th>Gender</th>\n",
       "      <th>Age</th>\n",
       "      <th>PhD</th>\n",
       "    </tr>\n",
       "  </thead>\n",
       "  <tbody>\n",
       "    <tr>\n",
       "      <th>1</th>\n",
       "      <td>30.0</td>\n",
       "      <td>0</td>\n",
       "      <td>65</td>\n",
       "      <td>1</td>\n",
       "    </tr>\n",
       "    <tr>\n",
       "      <th>4</th>\n",
       "      <td>80.0</td>\n",
       "      <td>0</td>\n",
       "      <td>53</td>\n",
       "      <td>1</td>\n",
       "    </tr>\n",
       "    <tr>\n",
       "      <th>17</th>\n",
       "      <td>84.0</td>\n",
       "      <td>0</td>\n",
       "      <td>47</td>\n",
       "      <td>1</td>\n",
       "    </tr>\n",
       "    <tr>\n",
       "      <th>28</th>\n",
       "      <td>72.0</td>\n",
       "      <td>0</td>\n",
       "      <td>51</td>\n",
       "      <td>1</td>\n",
       "    </tr>\n",
       "    <tr>\n",
       "      <th>30</th>\n",
       "      <td>100.0</td>\n",
       "      <td>0</td>\n",
       "      <td>45</td>\n",
       "      <td>1</td>\n",
       "    </tr>\n",
       "  </tbody>\n",
       "</table>\n",
       "</div>"
      ],
      "text/plain": [
       "    Salary  Gender  Age  PhD\n",
       "1     30.0       0   65    1\n",
       "4     80.0       0   53    1\n",
       "17    84.0       0   47    1\n",
       "28    72.0       0   51    1\n",
       "30   100.0       0   45    1"
      ]
     },
     "execution_count": 7,
     "metadata": {},
     "output_type": "execute_result"
    }
   ],
   "source": [
    "# 2. The number of women with a PhD\n",
    "\n",
    "filter = (df_SalaryGender['Gender'] == 0) & (df_SalaryGender['PhD'] == 1)\n",
    "df_women = df_SalaryGender.loc[filter]\n",
    "df_women.head(5)"
   ]
  },
  {
   "cell_type": "code",
   "execution_count": 8,
   "metadata": {},
   "outputs": [
    {
     "name": "stdout",
     "output_type": "stream",
     "text": [
      "The number of men with a PhD: 15\n"
     ]
    }
   ],
   "source": [
    "print('The number of men with a PhD:',df_women['PhD'].count())"
   ]
  },
  {
   "cell_type": "markdown",
   "metadata": {},
   "source": [
    "## 3.Use SalaryGender CSV file. Store the “Age” and “PhD” columns in one DataFrame and delete the data of all people who don’t have a PhD"
   ]
  },
  {
   "cell_type": "code",
   "execution_count": 9,
   "metadata": {},
   "outputs": [
    {
     "data": {
      "text/html": [
       "<div>\n",
       "<style scoped>\n",
       "    .dataframe tbody tr th:only-of-type {\n",
       "        vertical-align: middle;\n",
       "    }\n",
       "\n",
       "    .dataframe tbody tr th {\n",
       "        vertical-align: top;\n",
       "    }\n",
       "\n",
       "    .dataframe thead th {\n",
       "        text-align: right;\n",
       "    }\n",
       "</style>\n",
       "<table border=\"1\" class=\"dataframe\">\n",
       "  <thead>\n",
       "    <tr style=\"text-align: right;\">\n",
       "      <th></th>\n",
       "      <th>Salary</th>\n",
       "      <th>Gender</th>\n",
       "      <th>Age</th>\n",
       "      <th>PhD</th>\n",
       "    </tr>\n",
       "  </thead>\n",
       "  <tbody>\n",
       "    <tr>\n",
       "      <th>0</th>\n",
       "      <td>140.0</td>\n",
       "      <td>1</td>\n",
       "      <td>47</td>\n",
       "      <td>1</td>\n",
       "    </tr>\n",
       "    <tr>\n",
       "      <th>1</th>\n",
       "      <td>30.0</td>\n",
       "      <td>0</td>\n",
       "      <td>65</td>\n",
       "      <td>1</td>\n",
       "    </tr>\n",
       "    <tr>\n",
       "      <th>4</th>\n",
       "      <td>80.0</td>\n",
       "      <td>0</td>\n",
       "      <td>53</td>\n",
       "      <td>1</td>\n",
       "    </tr>\n",
       "    <tr>\n",
       "      <th>8</th>\n",
       "      <td>125.0</td>\n",
       "      <td>1</td>\n",
       "      <td>44</td>\n",
       "      <td>1</td>\n",
       "    </tr>\n",
       "    <tr>\n",
       "      <th>9</th>\n",
       "      <td>51.0</td>\n",
       "      <td>1</td>\n",
       "      <td>63</td>\n",
       "      <td>1</td>\n",
       "    </tr>\n",
       "  </tbody>\n",
       "</table>\n",
       "</div>"
      ],
      "text/plain": [
       "   Salary  Gender  Age  PhD\n",
       "0   140.0       1   47    1\n",
       "1    30.0       0   65    1\n",
       "4    80.0       0   53    1\n",
       "8   125.0       1   44    1\n",
       "9    51.0       1   63    1"
      ]
     },
     "execution_count": 9,
     "metadata": {},
     "output_type": "execute_result"
    }
   ],
   "source": [
    "filt = (df_SalaryGender['PhD'] == 1)\n",
    "df_SalaryGender.loc[filt].head()"
   ]
  },
  {
   "cell_type": "code",
   "execution_count": 10,
   "metadata": {},
   "outputs": [],
   "source": [
    "new_df = df_SalaryGender.loc[filt,['Age','PhD']]"
   ]
  },
  {
   "cell_type": "code",
   "execution_count": 11,
   "metadata": {},
   "outputs": [
    {
     "data": {
      "text/html": [
       "<div>\n",
       "<style scoped>\n",
       "    .dataframe tbody tr th:only-of-type {\n",
       "        vertical-align: middle;\n",
       "    }\n",
       "\n",
       "    .dataframe tbody tr th {\n",
       "        vertical-align: top;\n",
       "    }\n",
       "\n",
       "    .dataframe thead th {\n",
       "        text-align: right;\n",
       "    }\n",
       "</style>\n",
       "<table border=\"1\" class=\"dataframe\">\n",
       "  <thead>\n",
       "    <tr style=\"text-align: right;\">\n",
       "      <th></th>\n",
       "      <th>Age</th>\n",
       "      <th>PhD</th>\n",
       "    </tr>\n",
       "  </thead>\n",
       "  <tbody>\n",
       "    <tr>\n",
       "      <th>0</th>\n",
       "      <td>47</td>\n",
       "      <td>1</td>\n",
       "    </tr>\n",
       "    <tr>\n",
       "      <th>1</th>\n",
       "      <td>65</td>\n",
       "      <td>1</td>\n",
       "    </tr>\n",
       "    <tr>\n",
       "      <th>4</th>\n",
       "      <td>53</td>\n",
       "      <td>1</td>\n",
       "    </tr>\n",
       "    <tr>\n",
       "      <th>8</th>\n",
       "      <td>44</td>\n",
       "      <td>1</td>\n",
       "    </tr>\n",
       "    <tr>\n",
       "      <th>9</th>\n",
       "      <td>63</td>\n",
       "      <td>1</td>\n",
       "    </tr>\n",
       "  </tbody>\n",
       "</table>\n",
       "</div>"
      ],
      "text/plain": [
       "   Age  PhD\n",
       "0   47    1\n",
       "1   65    1\n",
       "4   53    1\n",
       "8   44    1\n",
       "9   63    1"
      ]
     },
     "execution_count": 11,
     "metadata": {},
     "output_type": "execute_result"
    }
   ],
   "source": [
    "new_df.head()"
   ]
  },
  {
   "cell_type": "markdown",
   "metadata": {},
   "source": [
    "## 4.Calculate the total number of people who have a PhD degree from SalaryGender CSV file."
   ]
  },
  {
   "cell_type": "code",
   "execution_count": 12,
   "metadata": {
    "scrolled": true
   },
   "outputs": [
    {
     "name": "stdout",
     "output_type": "stream",
     "text": [
      "Total number of people having a PhD is 39\n"
     ]
    }
   ],
   "source": [
    "filt = (df_SalaryGender['PhD'] == 1)\n",
    "total = df_SalaryGender.loc[filt,'PhD'].count()\n",
    "print('Total number of people having a PhD is',total)"
   ]
  },
  {
   "cell_type": "markdown",
   "metadata": {},
   "source": [
    "## 5.How  do  you  Count  The  Number  Of  Times  Each  Value  Appears  In  An  Array  Of Integers?[0, 5, 4, 0, 4, 4, 3, 0, 0, 5, 2, 1, 1, 9]\n",
    "## Answer should be array([4, 2, 1, 1, 3, 2, 0, 0, 0, 1]) which means 0 comes 4 times, 1 comes 2 times, 2 comes 1 time, 3 comes 1 time and so on."
   ]
  },
  {
   "cell_type": "code",
   "execution_count": 13,
   "metadata": {},
   "outputs": [
    {
     "data": {
      "text/plain": [
       "array([0, 5, 4, 0, 4, 4, 3, 0, 0, 5, 2, 1, 1, 9])"
      ]
     },
     "execution_count": 13,
     "metadata": {},
     "output_type": "execute_result"
    }
   ],
   "source": [
    "array = np.array([0, 5, 4, 0, 4, 4, 3, 0, 0, 5, 2, 1, 1, 9])\n",
    "array"
   ]
  },
  {
   "cell_type": "code",
   "execution_count": 14,
   "metadata": {},
   "outputs": [],
   "source": [
    "from collections import Counter"
   ]
  },
  {
   "cell_type": "code",
   "execution_count": 15,
   "metadata": {},
   "outputs": [
    {
     "data": {
      "text/plain": [
       "Counter({0: 4, 5: 2, 4: 3, 3: 1, 2: 1, 1: 2, 9: 1})"
      ]
     },
     "execution_count": 15,
     "metadata": {},
     "output_type": "execute_result"
    }
   ],
   "source": [
    "freq = Counter(array)\n",
    "freq"
   ]
  },
  {
   "cell_type": "code",
   "execution_count": 16,
   "metadata": {},
   "outputs": [
    {
     "data": {
      "text/plain": [
       "array([4, 2, 3, 1, 1, 2, 1])"
      ]
     },
     "execution_count": 16,
     "metadata": {},
     "output_type": "execute_result"
    }
   ],
   "source": [
    "abc = np.array(list(freq.values()))\n",
    "abc"
   ]
  },
  {
   "cell_type": "markdown",
   "metadata": {},
   "source": [
    "## 6.Create a numpyarray [[0, 1, 2],[ 3, 4, 5],[ 6, 7, 8],[ 9,10, 11]]) and filter the elements greater than 5."
   ]
  },
  {
   "cell_type": "code",
   "execution_count": 17,
   "metadata": {},
   "outputs": [
    {
     "data": {
      "text/plain": [
       "array([[ 0,  1,  2],\n",
       "       [ 3,  4,  5],\n",
       "       [ 6,  7,  8],\n",
       "       [ 9, 10, 11]])"
      ]
     },
     "execution_count": 17,
     "metadata": {},
     "output_type": "execute_result"
    }
   ],
   "source": [
    "array = np.array([[0, 1, 2],[ 3, 4, 5],[ 6, 7, 8],[ 9,10, 11]])\n",
    "array"
   ]
  },
  {
   "cell_type": "code",
   "execution_count": 18,
   "metadata": {},
   "outputs": [
    {
     "data": {
      "text/plain": [
       "array([ 6,  7,  8,  9, 10, 11])"
      ]
     },
     "execution_count": 18,
     "metadata": {},
     "output_type": "execute_result"
    }
   ],
   "source": [
    "filtered_array = array[array>5]\n",
    "new_array = np.array(filtered_array)\n",
    "new_array"
   ]
  },
  {
   "cell_type": "markdown",
   "metadata": {},
   "source": [
    "## 7.Create a numpy array having NaN (Not a Number) and print it.\n",
    "## array([ nan,   1.,   2.,  nan,   3.,   4.,   5.]) \n",
    "## Print the same array omitting all elements which are nan"
   ]
  },
  {
   "cell_type": "code",
   "execution_count": 19,
   "metadata": {},
   "outputs": [
    {
     "data": {
      "text/plain": [
       "array([nan,  1.,  2., nan,  3.,  4.,  5.])"
      ]
     },
     "execution_count": 19,
     "metadata": {},
     "output_type": "execute_result"
    }
   ],
   "source": [
    "arr = np.array([np.nan,1.,2.,np.nan,3.,4.,5.])\n",
    "arr"
   ]
  },
  {
   "cell_type": "code",
   "execution_count": 20,
   "metadata": {},
   "outputs": [
    {
     "data": {
      "text/plain": [
       "array([1., 2., 3., 4., 5.])"
      ]
     },
     "execution_count": 20,
     "metadata": {},
     "output_type": "execute_result"
    }
   ],
   "source": [
    "arr_without_nan = arr[~np.isnan(arr)]\n",
    "arr_without_nan"
   ]
  },
  {
   "cell_type": "markdown",
   "metadata": {},
   "source": [
    "## 8.Create  a  10x10  array  with  random  values  and  find  the  minimum  and  maximum values."
   ]
  },
  {
   "cell_type": "code",
   "execution_count": 51,
   "metadata": {},
   "outputs": [
    {
     "data": {
      "text/plain": [
       "array([[7.10326828e-01, 5.96648127e-02, 7.83050914e-01, 3.40393863e-01,\n",
       "        8.58422031e-01, 5.57187612e-01, 4.53901403e-01, 4.95198175e-01,\n",
       "        4.00671768e-01, 3.98698040e-01],\n",
       "       [8.20642992e-01, 3.08040148e-01, 9.77683644e-01, 5.24537302e-01,\n",
       "        8.78600891e-01, 5.50306747e-01, 1.08001854e-01, 3.17348493e-01,\n",
       "        2.81220376e-01, 6.41941294e-01],\n",
       "       [1.03647639e-01, 1.68232631e-01, 6.41732902e-01, 4.17305286e-01,\n",
       "        2.21520389e-01, 3.36796923e-01, 3.02593223e-01, 5.14799333e-01,\n",
       "        4.71468922e-01, 7.60710208e-01],\n",
       "       [6.85503329e-01, 4.98783711e-01, 4.83454713e-01, 1.48797102e-02,\n",
       "        7.11693634e-01, 5.00224120e-01, 6.31201703e-01, 1.21762193e-01,\n",
       "        1.15065273e-02, 1.36676466e-02],\n",
       "       [1.12391342e-01, 4.90356297e-01, 2.32863292e-02, 3.95012622e-01,\n",
       "        7.95740095e-01, 2.67589836e-01, 8.88141048e-01, 8.71856515e-01,\n",
       "        3.98637019e-01, 5.22489898e-01],\n",
       "       [5.50260037e-01, 8.62547582e-04, 7.38823681e-02, 4.67296705e-01,\n",
       "        6.05360446e-01, 9.11688744e-01, 1.32548143e-01, 7.64267471e-01,\n",
       "        7.72335068e-02, 7.78042075e-01],\n",
       "       [1.00142219e-01, 4.92167236e-01, 1.23436377e-01, 6.61703350e-01,\n",
       "        3.08384697e-01, 7.03200325e-01, 7.02186931e-01, 2.57740489e-01,\n",
       "        9.90275714e-01, 8.80743377e-01],\n",
       "       [6.86970309e-01, 4.83062128e-01, 2.01190192e-01, 2.69501573e-01,\n",
       "        1.64990778e-01, 2.07791967e-01, 4.84239114e-01, 9.88355690e-01,\n",
       "        2.05195782e-01, 6.23853986e-01],\n",
       "       [8.13806717e-01, 4.18604985e-01, 7.51996822e-01, 3.55315286e-01,\n",
       "        2.89441352e-01, 4.79314649e-01, 7.82675565e-01, 7.39415608e-01,\n",
       "        9.72953297e-01, 7.52643019e-01],\n",
       "       [6.78603126e-01, 1.47607825e-01, 9.46051243e-01, 3.16744790e-01,\n",
       "        3.52214091e-01, 5.15825433e-02, 1.95216012e-01, 3.72702811e-01,\n",
       "        1.52000835e-01, 7.77900251e-01]])"
      ]
     },
     "execution_count": 51,
     "metadata": {},
     "output_type": "execute_result"
    }
   ],
   "source": [
    "rand_arr = np.random.rand(10,10)\n",
    "rand_arr"
   ]
  },
  {
   "cell_type": "code",
   "execution_count": 52,
   "metadata": {},
   "outputs": [
    {
     "name": "stdout",
     "output_type": "stream",
     "text": [
      "Min: 0.0008625475815798866\n"
     ]
    }
   ],
   "source": [
    "print(\"Min:\",rand_arr.min())"
   ]
  },
  {
   "cell_type": "code",
   "execution_count": 53,
   "metadata": {},
   "outputs": [
    {
     "name": "stdout",
     "output_type": "stream",
     "text": [
      "Max: 0.9902757139885736\n"
     ]
    }
   ],
   "source": [
    "print(\"Max:\",rand_arr.max())"
   ]
  },
  {
   "cell_type": "markdown",
   "metadata": {},
   "source": [
    "## 9.Create a random vector of size 30 and find the mean value."
   ]
  },
  {
   "cell_type": "code",
   "execution_count": 24,
   "metadata": {},
   "outputs": [
    {
     "data": {
      "text/plain": [
       "array([0.41065742, 0.43262032, 0.22527305, 0.90683854, 0.23139592,\n",
       "       0.0618449 , 0.22055291, 0.13924994, 0.11690004, 0.46500837,\n",
       "       0.7007399 , 0.92485879, 0.3464639 , 0.14279159, 0.80470488,\n",
       "       0.29856777, 0.09797583, 0.41049187, 0.09796888, 0.69601843,\n",
       "       0.71577275, 0.17420594, 0.33884545, 0.8775854 , 0.39328417,\n",
       "       0.39977618, 0.12012228, 0.05381142, 0.7185073 , 0.42725729])"
      ]
     },
     "execution_count": 24,
     "metadata": {},
     "output_type": "execute_result"
    }
   ],
   "source": [
    "vector = np.random.rand(30)\n",
    "vector"
   ]
  },
  {
   "cell_type": "code",
   "execution_count": 25,
   "metadata": {},
   "outputs": [
    {
     "name": "stdout",
     "output_type": "stream",
     "text": [
      "Mean: 0.3983363809986336\n"
     ]
    }
   ],
   "source": [
    "print('Mean:',vector.mean())"
   ]
  },
  {
   "cell_type": "markdown",
   "metadata": {},
   "source": [
    "## 10.Create numpy array having elements 0 to 10 And negate all the elements between 3 and 9"
   ]
  },
  {
   "cell_type": "code",
   "execution_count": 31,
   "metadata": {},
   "outputs": [
    {
     "data": {
      "text/plain": [
       "array([ 0,  1,  2,  3,  4,  5,  6,  7,  8,  9, 10])"
      ]
     },
     "execution_count": 31,
     "metadata": {},
     "output_type": "execute_result"
    }
   ],
   "source": [
    "array1 = np.arange(0,11)\n",
    "array1"
   ]
  },
  {
   "cell_type": "code",
   "execution_count": 42,
   "metadata": {},
   "outputs": [
    {
     "name": "stdout",
     "output_type": "stream",
     "text": [
      "[ 0  1  2 -3 -4 -5 -6 -7 -8 -9 10]\n"
     ]
    }
   ],
   "source": [
    "array1[3:-2] = np.negative(array1[3:-2])\n",
    "print(array1)"
   ]
  },
  {
   "cell_type": "markdown",
   "metadata": {},
   "source": [
    "## 11.Create a random array of 3 rows and 3 columns and sort it according to 1st column, 2nd column or 3rd column."
   ]
  },
  {
   "cell_type": "code",
   "execution_count": 72,
   "metadata": {},
   "outputs": [
    {
     "data": {
      "text/plain": [
       "array([[3, 8, 1],\n",
       "       [6, 0, 2],\n",
       "       [5, 4, 5]])"
      ]
     },
     "execution_count": 72,
     "metadata": {},
     "output_type": "execute_result"
    }
   ],
   "source": [
    "array2 = np.random.randint(10,size=(3,3))\n",
    "array2"
   ]
  },
  {
   "cell_type": "code",
   "execution_count": 73,
   "metadata": {},
   "outputs": [],
   "source": [
    "array2.sort(axis=0)"
   ]
  },
  {
   "cell_type": "code",
   "execution_count": 74,
   "metadata": {},
   "outputs": [
    {
     "data": {
      "text/plain": [
       "array([[3, 0, 1],\n",
       "       [5, 4, 2],\n",
       "       [6, 8, 5]])"
      ]
     },
     "execution_count": 74,
     "metadata": {},
     "output_type": "execute_result"
    }
   ],
   "source": [
    "array2"
   ]
  },
  {
   "cell_type": "markdown",
   "metadata": {},
   "source": [
    "## 12.Create a four dimensions array get sum over the last two axis at once."
   ]
  },
  {
   "cell_type": "code",
   "execution_count": 81,
   "metadata": {},
   "outputs": [
    {
     "data": {
      "text/plain": [
       "array([[[[8, 1, 9, 5],\n",
       "         [2, 5, 1, 1],\n",
       "         [8, 8, 2, 3]],\n",
       "\n",
       "        [[1, 4, 4, 6],\n",
       "         [6, 3, 9, 4],\n",
       "         [5, 1, 3, 4]]],\n",
       "\n",
       "\n",
       "       [[[9, 5, 8, 3],\n",
       "         [5, 5, 0, 7],\n",
       "         [2, 9, 7, 7]],\n",
       "\n",
       "        [[4, 3, 3, 3],\n",
       "         [4, 0, 3, 2],\n",
       "         [5, 8, 6, 5]]]])"
      ]
     },
     "execution_count": 81,
     "metadata": {},
     "output_type": "execute_result"
    }
   ],
   "source": [
    "arr_4d = np.random.randint(10,size=(2,2,3,4))\n",
    "arr_4d"
   ]
  },
  {
   "cell_type": "code",
   "execution_count": 93,
   "metadata": {},
   "outputs": [
    {
     "data": {
      "text/plain": [
       "array([[[[53]],\n",
       "\n",
       "        [[50]]],\n",
       "\n",
       "\n",
       "       [[[67]],\n",
       "\n",
       "        [[46]]]])"
      ]
     },
     "execution_count": 93,
     "metadata": {},
     "output_type": "execute_result"
    }
   ],
   "source": [
    "arr_4d.sum(axis=(2,3),keepdims=True)"
   ]
  },
  {
   "cell_type": "code",
   "execution_count": 96,
   "metadata": {},
   "outputs": [
    {
     "data": {
      "text/plain": [
       "array([[53, 50],\n",
       "       [67, 46]])"
      ]
     },
     "execution_count": 96,
     "metadata": {},
     "output_type": "execute_result"
    }
   ],
   "source": [
    "arr_4d.sum(axis=(2,3))"
   ]
  },
  {
   "cell_type": "markdown",
   "metadata": {},
   "source": [
    "## 13.Create a random array and swap two rows of an array"
   ]
  },
  {
   "cell_type": "code",
   "execution_count": 102,
   "metadata": {},
   "outputs": [
    {
     "data": {
      "text/plain": [
       "array([[ 5,  0,  9,  0,  8],\n",
       "       [ 2, 10,  3, 12,  1],\n",
       "       [10,  3, 12, 14, 13],\n",
       "       [ 2, 12,  4,  3, 14],\n",
       "       [ 5,  3, 13,  8, 11]])"
      ]
     },
     "execution_count": 102,
     "metadata": {},
     "output_type": "execute_result"
    }
   ],
   "source": [
    "rand_arr = np.random.randint(15,size=(5,5))\n",
    "rand_arr"
   ]
  },
  {
   "cell_type": "code",
   "execution_count": 104,
   "metadata": {},
   "outputs": [],
   "source": [
    "rand_arr[[0,2],:] = rand_arr[[2,0],:]"
   ]
  },
  {
   "cell_type": "code",
   "execution_count": 105,
   "metadata": {},
   "outputs": [
    {
     "data": {
      "text/plain": [
       "array([[10,  3, 12, 14, 13],\n",
       "       [ 2, 10,  3, 12,  1],\n",
       "       [ 5,  0,  9,  0,  8],\n",
       "       [ 2, 12,  4,  3, 14],\n",
       "       [ 5,  3, 13,  8, 11]])"
      ]
     },
     "execution_count": 105,
     "metadata": {},
     "output_type": "execute_result"
    }
   ],
   "source": [
    "rand_arr"
   ]
  },
  {
   "cell_type": "markdown",
   "metadata": {},
   "source": [
    "## 14.Create a randommatrix and Compute a matrix rank."
   ]
  },
  {
   "cell_type": "code",
   "execution_count": 112,
   "metadata": {},
   "outputs": [
    {
     "data": {
      "text/plain": [
       "array([[ 0,  1,  2,  3,  4],\n",
       "       [ 5,  6,  7,  8,  9],\n",
       "       [10, 11, 12, 13, 14]])"
      ]
     },
     "execution_count": 112,
     "metadata": {},
     "output_type": "execute_result"
    }
   ],
   "source": [
    "mat = np.arange(15).reshape(3,5)\n",
    "mat"
   ]
  },
  {
   "cell_type": "code",
   "execution_count": 114,
   "metadata": {},
   "outputs": [],
   "source": [
    "from numpy.linalg import matrix_rank"
   ]
  },
  {
   "cell_type": "code",
   "execution_count": 115,
   "metadata": {},
   "outputs": [
    {
     "data": {
      "text/plain": [
       "2"
      ]
     },
     "execution_count": 115,
     "metadata": {},
     "output_type": "execute_result"
    }
   ],
   "source": [
    "matrix_rank(mat)"
   ]
  },
  {
   "cell_type": "code",
   "execution_count": 116,
   "metadata": {},
   "outputs": [
    {
     "data": {
      "text/plain": [
       "1"
      ]
     },
     "execution_count": 116,
     "metadata": {},
     "output_type": "execute_result"
    }
   ],
   "source": [
    "matrix_rank(np.ones((3,3)))"
   ]
  },
  {
   "cell_type": "code",
   "execution_count": 117,
   "metadata": {},
   "outputs": [
    {
     "data": {
      "text/plain": [
       "0"
      ]
     },
     "execution_count": 117,
     "metadata": {},
     "output_type": "execute_result"
    }
   ],
   "source": [
    "matrix_rank(np.zeros((4,4)))"
   ]
  },
  {
   "cell_type": "markdown",
   "metadata": {},
   "source": [
    "## 15.Analyse  various  school  outcomes  in  Tennessee  using  pandas.  Suppose  you  are  a public   schooladministrator.   Some   schools   in   your   state   of   Tennessee   are performing  below  average  academically.  Your  superintendent,  under  pressure from frustrated parents and voters, approached you with the task of understanding why  these  schools  are  under-performing.To  improve  school  performance,  you need to learn more about these schools and their students, just as a business needs to understand its own strengths and weaknesses and its customers. Though you is eager  to  build  an  impressive  explanatory  model,  you  knowthe  importance  of conducting  preliminary  research  to  prevent  possible  pitfalls  orblind  spots.  Thus, you engages in a thorough exploratory analysis, which includes: a lit review, data collection, descriptive and inferential statistics, and data visualization.\n",
    "\n",
    "## Phase 1 -Data CollectionHere  is  a  data  of  every  public  school  in  middle  Tennessee.  The  data  also  includes various  demographic,  school  faculty,  and  income  variables.  You  need  to  convert  the data into useful information.\n",
    "### •Read the data in pandas data frame\n",
    "### •Describe the data to find more details\n",
    "\n",
    "## Phase 2 -Group data by school ratings. Chooses  indicators  that  describe  the  student  body  (for  example,reduced_lunch)  or school administration (stu_teach_ratio) hoping they will explainschool_rating.reduced_lunchis  a  variable  measuring  the  average  percentage of students per school enrolled in a federal program that provides lunches for students from lower-income households. In short,reduced_lunchis a good proxy for household income.Isolates‘reduced_lunch’and groups the data by‘school_rating’using pandasgroupby method and then usesdescribeon the re-shaped data\n",
    "\n",
    "## Phase 3 –Correlation analysisFind the correlation between ‘reduced_lunch’and‘school_rating’. The values in the correlation matrix table will be between -1 and 1. A value of -1 indicates the strongest possible negative correlation, meaning as one variable decreases the other increases. And a value of 1 indicates the opposite.\n",
    "\n",
    "## Phase 4 –Scatter PlotFind the relationship betweenschool_ratingandreduced_lunch, Plot a graph with the two variables on a scatter plot. Each dot represents a school. The placement of the dot represents that school's rating (Y-axis) and the percentageof its students on reduced lunch    (x-axis).    The    downward    trend    line    shows    the    negative    correlation betweenschool_ratingandreduced_lunch(as one increases, the other decreases). The slope of the trend line indicates how muchschool_ratingdecreases asreduced_lunchincreases.  A  steeper  slope  would  indicate  that  a  small  change inreduced_lunchhas  a  big  impact  onschool_ratingwhile  a  more  horizontal  slope would  indicate  that  the  same  small  change  inreduced_lunchhas  a  smaller  impact onschool_rating.\n",
    "\n",
    "## Phase 5 –Correlation MatrixAn efficient graph for assessing relationships is the correlation matrix, as seen below; its  color-coded  cells  make  it  easier  to  interpret  than  the  tabular  correlation  matrix above. Red cells indicate positive correlation; blue cells indicate negative correlation; white cells indicate no correlation. The darker the colors, the stronger the correlation (positive or negative) between those two variables. Draw a graph of correlation matrix having all important fields of data frame.\n"
   ]
  },
  {
   "cell_type": "markdown",
   "metadata": {},
   "source": [
    "## Phase 1: Data Collection"
   ]
  },
  {
   "cell_type": "code",
   "execution_count": 123,
   "metadata": {},
   "outputs": [
    {
     "data": {
      "text/html": [
       "<div>\n",
       "<style scoped>\n",
       "    .dataframe tbody tr th:only-of-type {\n",
       "        vertical-align: middle;\n",
       "    }\n",
       "\n",
       "    .dataframe tbody tr th {\n",
       "        vertical-align: top;\n",
       "    }\n",
       "\n",
       "    .dataframe thead th {\n",
       "        text-align: right;\n",
       "    }\n",
       "</style>\n",
       "<table border=\"1\" class=\"dataframe\">\n",
       "  <thead>\n",
       "    <tr style=\"text-align: right;\">\n",
       "      <th></th>\n",
       "      <th>school_rating</th>\n",
       "      <th>size</th>\n",
       "      <th>reduced_lunch</th>\n",
       "      <th>state_percentile_16</th>\n",
       "      <th>state_percentile_15</th>\n",
       "      <th>stu_teach_ratio</th>\n",
       "      <th>school_type</th>\n",
       "      <th>avg_score_15</th>\n",
       "      <th>avg_score_16</th>\n",
       "      <th>full_time_teachers</th>\n",
       "      <th>percent_black</th>\n",
       "      <th>percent_white</th>\n",
       "      <th>percent_asian</th>\n",
       "      <th>percent_hispanic</th>\n",
       "    </tr>\n",
       "    <tr>\n",
       "      <th>name</th>\n",
       "      <th></th>\n",
       "      <th></th>\n",
       "      <th></th>\n",
       "      <th></th>\n",
       "      <th></th>\n",
       "      <th></th>\n",
       "      <th></th>\n",
       "      <th></th>\n",
       "      <th></th>\n",
       "      <th></th>\n",
       "      <th></th>\n",
       "      <th></th>\n",
       "      <th></th>\n",
       "      <th></th>\n",
       "    </tr>\n",
       "  </thead>\n",
       "  <tbody>\n",
       "    <tr>\n",
       "      <th>Allendale Elementary School</th>\n",
       "      <td>5.0</td>\n",
       "      <td>851.0</td>\n",
       "      <td>10.0</td>\n",
       "      <td>90.2</td>\n",
       "      <td>95.8</td>\n",
       "      <td>15.7</td>\n",
       "      <td>Public</td>\n",
       "      <td>89.4</td>\n",
       "      <td>85.2</td>\n",
       "      <td>54.0</td>\n",
       "      <td>2.9</td>\n",
       "      <td>85.5</td>\n",
       "      <td>1.6</td>\n",
       "      <td>5.6</td>\n",
       "    </tr>\n",
       "    <tr>\n",
       "      <th>Anderson Elementary</th>\n",
       "      <td>2.0</td>\n",
       "      <td>412.0</td>\n",
       "      <td>71.0</td>\n",
       "      <td>32.8</td>\n",
       "      <td>37.3</td>\n",
       "      <td>12.8</td>\n",
       "      <td>Public</td>\n",
       "      <td>43.0</td>\n",
       "      <td>38.3</td>\n",
       "      <td>32.0</td>\n",
       "      <td>3.9</td>\n",
       "      <td>86.7</td>\n",
       "      <td>1.0</td>\n",
       "      <td>4.9</td>\n",
       "    </tr>\n",
       "    <tr>\n",
       "      <th>Avoca Elementary</th>\n",
       "      <td>4.0</td>\n",
       "      <td>482.0</td>\n",
       "      <td>43.0</td>\n",
       "      <td>78.4</td>\n",
       "      <td>83.6</td>\n",
       "      <td>16.6</td>\n",
       "      <td>Public</td>\n",
       "      <td>75.7</td>\n",
       "      <td>73.0</td>\n",
       "      <td>29.0</td>\n",
       "      <td>1.0</td>\n",
       "      <td>91.5</td>\n",
       "      <td>1.2</td>\n",
       "      <td>4.4</td>\n",
       "    </tr>\n",
       "    <tr>\n",
       "      <th>Bailey Middle</th>\n",
       "      <td>0.0</td>\n",
       "      <td>394.0</td>\n",
       "      <td>91.0</td>\n",
       "      <td>1.6</td>\n",
       "      <td>1.0</td>\n",
       "      <td>13.1</td>\n",
       "      <td>Public Magnet</td>\n",
       "      <td>2.1</td>\n",
       "      <td>4.4</td>\n",
       "      <td>30.0</td>\n",
       "      <td>80.7</td>\n",
       "      <td>11.7</td>\n",
       "      <td>2.3</td>\n",
       "      <td>4.3</td>\n",
       "    </tr>\n",
       "    <tr>\n",
       "      <th>Barfield Elementary</th>\n",
       "      <td>4.0</td>\n",
       "      <td>948.0</td>\n",
       "      <td>26.0</td>\n",
       "      <td>85.3</td>\n",
       "      <td>89.2</td>\n",
       "      <td>14.8</td>\n",
       "      <td>Public</td>\n",
       "      <td>81.3</td>\n",
       "      <td>79.6</td>\n",
       "      <td>64.0</td>\n",
       "      <td>11.8</td>\n",
       "      <td>71.2</td>\n",
       "      <td>7.1</td>\n",
       "      <td>6.0</td>\n",
       "    </tr>\n",
       "    <tr>\n",
       "      <th>...</th>\n",
       "      <td>...</td>\n",
       "      <td>...</td>\n",
       "      <td>...</td>\n",
       "      <td>...</td>\n",
       "      <td>...</td>\n",
       "      <td>...</td>\n",
       "      <td>...</td>\n",
       "      <td>...</td>\n",
       "      <td>...</td>\n",
       "      <td>...</td>\n",
       "      <td>...</td>\n",
       "      <td>...</td>\n",
       "      <td>...</td>\n",
       "      <td>...</td>\n",
       "    </tr>\n",
       "    <tr>\n",
       "      <th>Winfree Bryant Middle School</th>\n",
       "      <td>3.0</td>\n",
       "      <td>611.0</td>\n",
       "      <td>57.0</td>\n",
       "      <td>59.1</td>\n",
       "      <td>65.2</td>\n",
       "      <td>16.9</td>\n",
       "      <td>Public</td>\n",
       "      <td>61.4</td>\n",
       "      <td>57.7</td>\n",
       "      <td>36.0</td>\n",
       "      <td>15.2</td>\n",
       "      <td>66.3</td>\n",
       "      <td>1.5</td>\n",
       "      <td>15.7</td>\n",
       "    </tr>\n",
       "    <tr>\n",
       "      <th>Winstead Elementary School</th>\n",
       "      <td>5.0</td>\n",
       "      <td>515.0</td>\n",
       "      <td>8.0</td>\n",
       "      <td>93.9</td>\n",
       "      <td>97.0</td>\n",
       "      <td>14.3</td>\n",
       "      <td>Public</td>\n",
       "      <td>92.0</td>\n",
       "      <td>89.3</td>\n",
       "      <td>36.0</td>\n",
       "      <td>3.3</td>\n",
       "      <td>87.4</td>\n",
       "      <td>3.1</td>\n",
       "      <td>4.1</td>\n",
       "    </tr>\n",
       "    <tr>\n",
       "      <th>Woodland Elementary</th>\n",
       "      <td>4.0</td>\n",
       "      <td>424.0</td>\n",
       "      <td>55.0</td>\n",
       "      <td>84.8</td>\n",
       "      <td>76.7</td>\n",
       "      <td>14.1</td>\n",
       "      <td>Public</td>\n",
       "      <td>69.4</td>\n",
       "      <td>79.4</td>\n",
       "      <td>30.0</td>\n",
       "      <td>11.6</td>\n",
       "      <td>70.5</td>\n",
       "      <td>2.1</td>\n",
       "      <td>9.7</td>\n",
       "    </tr>\n",
       "    <tr>\n",
       "      <th>Woodland Middle School</th>\n",
       "      <td>5.0</td>\n",
       "      <td>866.0</td>\n",
       "      <td>2.0</td>\n",
       "      <td>93.3</td>\n",
       "      <td>97.1</td>\n",
       "      <td>19.2</td>\n",
       "      <td>Public</td>\n",
       "      <td>89.8</td>\n",
       "      <td>84.9</td>\n",
       "      <td>45.0</td>\n",
       "      <td>4.5</td>\n",
       "      <td>77.6</td>\n",
       "      <td>10.0</td>\n",
       "      <td>4.4</td>\n",
       "    </tr>\n",
       "    <tr>\n",
       "      <th>Wright Middle</th>\n",
       "      <td>0.0</td>\n",
       "      <td>829.0</td>\n",
       "      <td>89.0</td>\n",
       "      <td>4.5</td>\n",
       "      <td>1.2</td>\n",
       "      <td>16.5</td>\n",
       "      <td>Public</td>\n",
       "      <td>2.7</td>\n",
       "      <td>9.6</td>\n",
       "      <td>50.0</td>\n",
       "      <td>22.3</td>\n",
       "      <td>21.0</td>\n",
       "      <td>6.6</td>\n",
       "      <td>49.5</td>\n",
       "    </tr>\n",
       "  </tbody>\n",
       "</table>\n",
       "<p>347 rows × 14 columns</p>\n",
       "</div>"
      ],
      "text/plain": [
       "                              school_rating   size  reduced_lunch  \\\n",
       "name                                                                \n",
       "Allendale Elementary School             5.0  851.0           10.0   \n",
       "Anderson Elementary                     2.0  412.0           71.0   \n",
       "Avoca Elementary                        4.0  482.0           43.0   \n",
       "Bailey Middle                           0.0  394.0           91.0   \n",
       "Barfield Elementary                     4.0  948.0           26.0   \n",
       "...                                     ...    ...            ...   \n",
       "Winfree Bryant Middle School            3.0  611.0           57.0   \n",
       "Winstead Elementary School              5.0  515.0            8.0   \n",
       "Woodland Elementary                     4.0  424.0           55.0   \n",
       "Woodland Middle School                  5.0  866.0            2.0   \n",
       "Wright Middle                           0.0  829.0           89.0   \n",
       "\n",
       "                              state_percentile_16  state_percentile_15  \\\n",
       "name                                                                     \n",
       "Allendale Elementary School                  90.2                 95.8   \n",
       "Anderson Elementary                          32.8                 37.3   \n",
       "Avoca Elementary                             78.4                 83.6   \n",
       "Bailey Middle                                 1.6                  1.0   \n",
       "Barfield Elementary                          85.3                 89.2   \n",
       "...                                           ...                  ...   \n",
       "Winfree Bryant Middle School                 59.1                 65.2   \n",
       "Winstead Elementary School                   93.9                 97.0   \n",
       "Woodland Elementary                          84.8                 76.7   \n",
       "Woodland Middle School                       93.3                 97.1   \n",
       "Wright Middle                                 4.5                  1.2   \n",
       "\n",
       "                              stu_teach_ratio    school_type  avg_score_15  \\\n",
       "name                                                                         \n",
       "Allendale Elementary School              15.7         Public          89.4   \n",
       "Anderson Elementary                      12.8         Public          43.0   \n",
       "Avoca Elementary                         16.6         Public          75.7   \n",
       "Bailey Middle                            13.1  Public Magnet           2.1   \n",
       "Barfield Elementary                      14.8         Public          81.3   \n",
       "...                                       ...            ...           ...   \n",
       "Winfree Bryant Middle School             16.9         Public          61.4   \n",
       "Winstead Elementary School               14.3         Public          92.0   \n",
       "Woodland Elementary                      14.1         Public          69.4   \n",
       "Woodland Middle School                   19.2         Public          89.8   \n",
       "Wright Middle                            16.5         Public           2.7   \n",
       "\n",
       "                              avg_score_16  full_time_teachers  percent_black  \\\n",
       "name                                                                            \n",
       "Allendale Elementary School           85.2                54.0            2.9   \n",
       "Anderson Elementary                   38.3                32.0            3.9   \n",
       "Avoca Elementary                      73.0                29.0            1.0   \n",
       "Bailey Middle                          4.4                30.0           80.7   \n",
       "Barfield Elementary                   79.6                64.0           11.8   \n",
       "...                                    ...                 ...            ...   \n",
       "Winfree Bryant Middle School          57.7                36.0           15.2   \n",
       "Winstead Elementary School            89.3                36.0            3.3   \n",
       "Woodland Elementary                   79.4                30.0           11.6   \n",
       "Woodland Middle School                84.9                45.0            4.5   \n",
       "Wright Middle                          9.6                50.0           22.3   \n",
       "\n",
       "                              percent_white  percent_asian  percent_hispanic  \n",
       "name                                                                          \n",
       "Allendale Elementary School            85.5            1.6               5.6  \n",
       "Anderson Elementary                    86.7            1.0               4.9  \n",
       "Avoca Elementary                       91.5            1.2               4.4  \n",
       "Bailey Middle                          11.7            2.3               4.3  \n",
       "Barfield Elementary                    71.2            7.1               6.0  \n",
       "...                                     ...            ...               ...  \n",
       "Winfree Bryant Middle School           66.3            1.5              15.7  \n",
       "Winstead Elementary School             87.4            3.1               4.1  \n",
       "Woodland Elementary                    70.5            2.1               9.7  \n",
       "Woodland Middle School                 77.6           10.0               4.4  \n",
       "Wright Middle                          21.0            6.6              49.5  \n",
       "\n",
       "[347 rows x 14 columns]"
      ]
     },
     "execution_count": 123,
     "metadata": {},
     "output_type": "execute_result"
    }
   ],
   "source": [
    "df = pd.read_csv(r\"C:\\Users\\saqla\\Desktop\\Python Certification for Data Science\\Modules\\Module 4\\Dataset\\middle_tn_schools.csv\",index_col='name')\n",
    "df"
   ]
  },
  {
   "cell_type": "code",
   "execution_count": 124,
   "metadata": {},
   "outputs": [
    {
     "data": {
      "text/html": [
       "<div>\n",
       "<style scoped>\n",
       "    .dataframe tbody tr th:only-of-type {\n",
       "        vertical-align: middle;\n",
       "    }\n",
       "\n",
       "    .dataframe tbody tr th {\n",
       "        vertical-align: top;\n",
       "    }\n",
       "\n",
       "    .dataframe thead th {\n",
       "        text-align: right;\n",
       "    }\n",
       "</style>\n",
       "<table border=\"1\" class=\"dataframe\">\n",
       "  <thead>\n",
       "    <tr style=\"text-align: right;\">\n",
       "      <th></th>\n",
       "      <th>school_rating</th>\n",
       "      <th>size</th>\n",
       "      <th>reduced_lunch</th>\n",
       "      <th>state_percentile_16</th>\n",
       "      <th>state_percentile_15</th>\n",
       "      <th>stu_teach_ratio</th>\n",
       "      <th>avg_score_15</th>\n",
       "      <th>avg_score_16</th>\n",
       "      <th>full_time_teachers</th>\n",
       "      <th>percent_black</th>\n",
       "      <th>percent_white</th>\n",
       "      <th>percent_asian</th>\n",
       "      <th>percent_hispanic</th>\n",
       "    </tr>\n",
       "  </thead>\n",
       "  <tbody>\n",
       "    <tr>\n",
       "      <th>count</th>\n",
       "      <td>347.000000</td>\n",
       "      <td>347.000000</td>\n",
       "      <td>347.000000</td>\n",
       "      <td>347.000000</td>\n",
       "      <td>341.000000</td>\n",
       "      <td>347.000000</td>\n",
       "      <td>341.000000</td>\n",
       "      <td>347.000000</td>\n",
       "      <td>347.000000</td>\n",
       "      <td>347.000000</td>\n",
       "      <td>347.000000</td>\n",
       "      <td>347.000000</td>\n",
       "      <td>347.000000</td>\n",
       "    </tr>\n",
       "    <tr>\n",
       "      <th>mean</th>\n",
       "      <td>2.968300</td>\n",
       "      <td>699.472622</td>\n",
       "      <td>50.279539</td>\n",
       "      <td>58.801729</td>\n",
       "      <td>58.249267</td>\n",
       "      <td>15.461671</td>\n",
       "      <td>57.004692</td>\n",
       "      <td>57.049856</td>\n",
       "      <td>44.939481</td>\n",
       "      <td>21.197983</td>\n",
       "      <td>61.673487</td>\n",
       "      <td>2.642651</td>\n",
       "      <td>11.164553</td>\n",
       "    </tr>\n",
       "    <tr>\n",
       "      <th>std</th>\n",
       "      <td>1.690377</td>\n",
       "      <td>400.598636</td>\n",
       "      <td>25.480236</td>\n",
       "      <td>32.540747</td>\n",
       "      <td>32.702630</td>\n",
       "      <td>5.725170</td>\n",
       "      <td>26.696450</td>\n",
       "      <td>27.968974</td>\n",
       "      <td>22.053386</td>\n",
       "      <td>23.562538</td>\n",
       "      <td>27.274859</td>\n",
       "      <td>3.109629</td>\n",
       "      <td>12.030608</td>\n",
       "    </tr>\n",
       "    <tr>\n",
       "      <th>min</th>\n",
       "      <td>0.000000</td>\n",
       "      <td>53.000000</td>\n",
       "      <td>2.000000</td>\n",
       "      <td>0.200000</td>\n",
       "      <td>0.600000</td>\n",
       "      <td>4.700000</td>\n",
       "      <td>1.500000</td>\n",
       "      <td>0.100000</td>\n",
       "      <td>2.000000</td>\n",
       "      <td>0.000000</td>\n",
       "      <td>1.100000</td>\n",
       "      <td>0.000000</td>\n",
       "      <td>0.000000</td>\n",
       "    </tr>\n",
       "    <tr>\n",
       "      <th>25%</th>\n",
       "      <td>2.000000</td>\n",
       "      <td>420.500000</td>\n",
       "      <td>30.000000</td>\n",
       "      <td>30.950000</td>\n",
       "      <td>27.100000</td>\n",
       "      <td>13.700000</td>\n",
       "      <td>37.600000</td>\n",
       "      <td>37.000000</td>\n",
       "      <td>30.000000</td>\n",
       "      <td>3.600000</td>\n",
       "      <td>40.600000</td>\n",
       "      <td>0.750000</td>\n",
       "      <td>3.800000</td>\n",
       "    </tr>\n",
       "    <tr>\n",
       "      <th>50%</th>\n",
       "      <td>3.000000</td>\n",
       "      <td>595.000000</td>\n",
       "      <td>51.000000</td>\n",
       "      <td>66.400000</td>\n",
       "      <td>65.800000</td>\n",
       "      <td>15.000000</td>\n",
       "      <td>61.800000</td>\n",
       "      <td>60.700000</td>\n",
       "      <td>40.000000</td>\n",
       "      <td>13.500000</td>\n",
       "      <td>68.700000</td>\n",
       "      <td>1.600000</td>\n",
       "      <td>6.400000</td>\n",
       "    </tr>\n",
       "    <tr>\n",
       "      <th>75%</th>\n",
       "      <td>4.000000</td>\n",
       "      <td>851.000000</td>\n",
       "      <td>71.500000</td>\n",
       "      <td>88.000000</td>\n",
       "      <td>88.600000</td>\n",
       "      <td>16.700000</td>\n",
       "      <td>79.600000</td>\n",
       "      <td>80.250000</td>\n",
       "      <td>54.000000</td>\n",
       "      <td>28.350000</td>\n",
       "      <td>85.950000</td>\n",
       "      <td>3.100000</td>\n",
       "      <td>13.800000</td>\n",
       "    </tr>\n",
       "    <tr>\n",
       "      <th>max</th>\n",
       "      <td>5.000000</td>\n",
       "      <td>2314.000000</td>\n",
       "      <td>98.000000</td>\n",
       "      <td>99.800000</td>\n",
       "      <td>99.800000</td>\n",
       "      <td>111.000000</td>\n",
       "      <td>99.000000</td>\n",
       "      <td>98.900000</td>\n",
       "      <td>140.000000</td>\n",
       "      <td>97.400000</td>\n",
       "      <td>99.700000</td>\n",
       "      <td>21.100000</td>\n",
       "      <td>65.200000</td>\n",
       "    </tr>\n",
       "  </tbody>\n",
       "</table>\n",
       "</div>"
      ],
      "text/plain": [
       "       school_rating         size  reduced_lunch  state_percentile_16  \\\n",
       "count     347.000000   347.000000     347.000000           347.000000   \n",
       "mean        2.968300   699.472622      50.279539            58.801729   \n",
       "std         1.690377   400.598636      25.480236            32.540747   \n",
       "min         0.000000    53.000000       2.000000             0.200000   \n",
       "25%         2.000000   420.500000      30.000000            30.950000   \n",
       "50%         3.000000   595.000000      51.000000            66.400000   \n",
       "75%         4.000000   851.000000      71.500000            88.000000   \n",
       "max         5.000000  2314.000000      98.000000            99.800000   \n",
       "\n",
       "       state_percentile_15  stu_teach_ratio  avg_score_15  avg_score_16  \\\n",
       "count           341.000000       347.000000    341.000000    347.000000   \n",
       "mean             58.249267        15.461671     57.004692     57.049856   \n",
       "std              32.702630         5.725170     26.696450     27.968974   \n",
       "min               0.600000         4.700000      1.500000      0.100000   \n",
       "25%              27.100000        13.700000     37.600000     37.000000   \n",
       "50%              65.800000        15.000000     61.800000     60.700000   \n",
       "75%              88.600000        16.700000     79.600000     80.250000   \n",
       "max              99.800000       111.000000     99.000000     98.900000   \n",
       "\n",
       "       full_time_teachers  percent_black  percent_white  percent_asian  \\\n",
       "count          347.000000     347.000000     347.000000     347.000000   \n",
       "mean            44.939481      21.197983      61.673487       2.642651   \n",
       "std             22.053386      23.562538      27.274859       3.109629   \n",
       "min              2.000000       0.000000       1.100000       0.000000   \n",
       "25%             30.000000       3.600000      40.600000       0.750000   \n",
       "50%             40.000000      13.500000      68.700000       1.600000   \n",
       "75%             54.000000      28.350000      85.950000       3.100000   \n",
       "max            140.000000      97.400000      99.700000      21.100000   \n",
       "\n",
       "       percent_hispanic  \n",
       "count        347.000000  \n",
       "mean          11.164553  \n",
       "std           12.030608  \n",
       "min            0.000000  \n",
       "25%            3.800000  \n",
       "50%            6.400000  \n",
       "75%           13.800000  \n",
       "max           65.200000  "
      ]
     },
     "execution_count": 124,
     "metadata": {},
     "output_type": "execute_result"
    }
   ],
   "source": [
    "df.describe()"
   ]
  },
  {
   "cell_type": "markdown",
   "metadata": {},
   "source": [
    "## Phase 2: Group data by school ratings"
   ]
  },
  {
   "cell_type": "code",
   "execution_count": 131,
   "metadata": {},
   "outputs": [],
   "source": [
    "school_rating_group = df.groupby('school_rating')"
   ]
  },
  {
   "cell_type": "code",
   "execution_count": 132,
   "metadata": {},
   "outputs": [
    {
     "data": {
      "text/html": [
       "<div>\n",
       "<style scoped>\n",
       "    .dataframe tbody tr th:only-of-type {\n",
       "        vertical-align: middle;\n",
       "    }\n",
       "\n",
       "    .dataframe tbody tr th {\n",
       "        vertical-align: top;\n",
       "    }\n",
       "\n",
       "    .dataframe thead th {\n",
       "        text-align: right;\n",
       "    }\n",
       "</style>\n",
       "<table border=\"1\" class=\"dataframe\">\n",
       "  <thead>\n",
       "    <tr style=\"text-align: right;\">\n",
       "      <th></th>\n",
       "      <th>school_rating</th>\n",
       "      <th>size</th>\n",
       "      <th>reduced_lunch</th>\n",
       "      <th>state_percentile_16</th>\n",
       "      <th>state_percentile_15</th>\n",
       "      <th>stu_teach_ratio</th>\n",
       "      <th>school_type</th>\n",
       "      <th>avg_score_15</th>\n",
       "      <th>avg_score_16</th>\n",
       "      <th>full_time_teachers</th>\n",
       "      <th>percent_black</th>\n",
       "      <th>percent_white</th>\n",
       "      <th>percent_asian</th>\n",
       "      <th>percent_hispanic</th>\n",
       "    </tr>\n",
       "    <tr>\n",
       "      <th>name</th>\n",
       "      <th></th>\n",
       "      <th></th>\n",
       "      <th></th>\n",
       "      <th></th>\n",
       "      <th></th>\n",
       "      <th></th>\n",
       "      <th></th>\n",
       "      <th></th>\n",
       "      <th></th>\n",
       "      <th></th>\n",
       "      <th></th>\n",
       "      <th></th>\n",
       "      <th></th>\n",
       "      <th></th>\n",
       "    </tr>\n",
       "  </thead>\n",
       "  <tbody>\n",
       "    <tr>\n",
       "      <th>Allendale Elementary School</th>\n",
       "      <td>5.0</td>\n",
       "      <td>851.0</td>\n",
       "      <td>10.0</td>\n",
       "      <td>90.2</td>\n",
       "      <td>95.8</td>\n",
       "      <td>15.7</td>\n",
       "      <td>Public</td>\n",
       "      <td>89.4</td>\n",
       "      <td>85.2</td>\n",
       "      <td>54.0</td>\n",
       "      <td>2.9</td>\n",
       "      <td>85.5</td>\n",
       "      <td>1.6</td>\n",
       "      <td>5.6</td>\n",
       "    </tr>\n",
       "    <tr>\n",
       "      <th>Beech Elementary</th>\n",
       "      <td>5.0</td>\n",
       "      <td>612.0</td>\n",
       "      <td>16.0</td>\n",
       "      <td>95.2</td>\n",
       "      <td>93.4</td>\n",
       "      <td>15.6</td>\n",
       "      <td>Public</td>\n",
       "      <td>85.9</td>\n",
       "      <td>90.3</td>\n",
       "      <td>39.0</td>\n",
       "      <td>4.2</td>\n",
       "      <td>90.5</td>\n",
       "      <td>0.3</td>\n",
       "      <td>3.1</td>\n",
       "    </tr>\n",
       "    <tr>\n",
       "      <th>Blackman Elementary School</th>\n",
       "      <td>5.0</td>\n",
       "      <td>880.0</td>\n",
       "      <td>25.0</td>\n",
       "      <td>92.4</td>\n",
       "      <td>90.3</td>\n",
       "      <td>14.4</td>\n",
       "      <td>Public</td>\n",
       "      <td>82.5</td>\n",
       "      <td>87.0</td>\n",
       "      <td>61.0</td>\n",
       "      <td>17.0</td>\n",
       "      <td>67.3</td>\n",
       "      <td>6.9</td>\n",
       "      <td>5.7</td>\n",
       "    </tr>\n",
       "    <tr>\n",
       "      <th>Brentwood High School</th>\n",
       "      <td>5.0</td>\n",
       "      <td>1689.0</td>\n",
       "      <td>4.0</td>\n",
       "      <td>96.3</td>\n",
       "      <td>97.3</td>\n",
       "      <td>18.7</td>\n",
       "      <td>Public</td>\n",
       "      <td>89.8</td>\n",
       "      <td>87.6</td>\n",
       "      <td>90.0</td>\n",
       "      <td>3.1</td>\n",
       "      <td>83.8</td>\n",
       "      <td>6.9</td>\n",
       "      <td>3.6</td>\n",
       "    </tr>\n",
       "    <tr>\n",
       "      <th>Brentwood Middle School</th>\n",
       "      <td>5.0</td>\n",
       "      <td>1261.0</td>\n",
       "      <td>3.0</td>\n",
       "      <td>98.0</td>\n",
       "      <td>98.2</td>\n",
       "      <td>18.5</td>\n",
       "      <td>Public</td>\n",
       "      <td>91.1</td>\n",
       "      <td>91.7</td>\n",
       "      <td>68.0</td>\n",
       "      <td>3.2</td>\n",
       "      <td>83.3</td>\n",
       "      <td>6.7</td>\n",
       "      <td>2.8</td>\n",
       "    </tr>\n",
       "    <tr>\n",
       "      <th>...</th>\n",
       "      <td>...</td>\n",
       "      <td>...</td>\n",
       "      <td>...</td>\n",
       "      <td>...</td>\n",
       "      <td>...</td>\n",
       "      <td>...</td>\n",
       "      <td>...</td>\n",
       "      <td>...</td>\n",
       "      <td>...</td>\n",
       "      <td>...</td>\n",
       "      <td>...</td>\n",
       "      <td>...</td>\n",
       "      <td>...</td>\n",
       "      <td>...</td>\n",
       "    </tr>\n",
       "    <tr>\n",
       "      <th>Trinity Elementary</th>\n",
       "      <td>5.0</td>\n",
       "      <td>595.0</td>\n",
       "      <td>8.0</td>\n",
       "      <td>98.2</td>\n",
       "      <td>98.2</td>\n",
       "      <td>15.2</td>\n",
       "      <td>Public</td>\n",
       "      <td>93.8</td>\n",
       "      <td>96.1</td>\n",
       "      <td>39.0</td>\n",
       "      <td>2.2</td>\n",
       "      <td>86.2</td>\n",
       "      <td>4.0</td>\n",
       "      <td>3.5</td>\n",
       "    </tr>\n",
       "    <tr>\n",
       "      <th>Union Elementary School</th>\n",
       "      <td>5.0</td>\n",
       "      <td>528.0</td>\n",
       "      <td>15.0</td>\n",
       "      <td>94.7</td>\n",
       "      <td>94.1</td>\n",
       "      <td>17.6</td>\n",
       "      <td>Public</td>\n",
       "      <td>87.3</td>\n",
       "      <td>90.0</td>\n",
       "      <td>30.0</td>\n",
       "      <td>8.1</td>\n",
       "      <td>86.4</td>\n",
       "      <td>1.5</td>\n",
       "      <td>1.3</td>\n",
       "    </tr>\n",
       "    <tr>\n",
       "      <th>Walnut Grove Elementary</th>\n",
       "      <td>5.0</td>\n",
       "      <td>662.0</td>\n",
       "      <td>9.0</td>\n",
       "      <td>98.5</td>\n",
       "      <td>99.4</td>\n",
       "      <td>15.3</td>\n",
       "      <td>Public</td>\n",
       "      <td>95.2</td>\n",
       "      <td>96.2</td>\n",
       "      <td>43.0</td>\n",
       "      <td>1.7</td>\n",
       "      <td>89.4</td>\n",
       "      <td>4.1</td>\n",
       "      <td>2.6</td>\n",
       "    </tr>\n",
       "    <tr>\n",
       "      <th>Winstead Elementary School</th>\n",
       "      <td>5.0</td>\n",
       "      <td>515.0</td>\n",
       "      <td>8.0</td>\n",
       "      <td>93.9</td>\n",
       "      <td>97.0</td>\n",
       "      <td>14.3</td>\n",
       "      <td>Public</td>\n",
       "      <td>92.0</td>\n",
       "      <td>89.3</td>\n",
       "      <td>36.0</td>\n",
       "      <td>3.3</td>\n",
       "      <td>87.4</td>\n",
       "      <td>3.1</td>\n",
       "      <td>4.1</td>\n",
       "    </tr>\n",
       "    <tr>\n",
       "      <th>Woodland Middle School</th>\n",
       "      <td>5.0</td>\n",
       "      <td>866.0</td>\n",
       "      <td>2.0</td>\n",
       "      <td>93.3</td>\n",
       "      <td>97.1</td>\n",
       "      <td>19.2</td>\n",
       "      <td>Public</td>\n",
       "      <td>89.8</td>\n",
       "      <td>84.9</td>\n",
       "      <td>45.0</td>\n",
       "      <td>4.5</td>\n",
       "      <td>77.6</td>\n",
       "      <td>10.0</td>\n",
       "      <td>4.4</td>\n",
       "    </tr>\n",
       "  </tbody>\n",
       "</table>\n",
       "<p>78 rows × 14 columns</p>\n",
       "</div>"
      ],
      "text/plain": [
       "                             school_rating    size  reduced_lunch  \\\n",
       "name                                                                \n",
       "Allendale Elementary School            5.0   851.0           10.0   \n",
       "Beech Elementary                       5.0   612.0           16.0   \n",
       "Blackman Elementary School             5.0   880.0           25.0   \n",
       "Brentwood High School                  5.0  1689.0            4.0   \n",
       "Brentwood Middle School                5.0  1261.0            3.0   \n",
       "...                                    ...     ...            ...   \n",
       "Trinity Elementary                     5.0   595.0            8.0   \n",
       "Union Elementary School                5.0   528.0           15.0   \n",
       "Walnut Grove Elementary                5.0   662.0            9.0   \n",
       "Winstead Elementary School             5.0   515.0            8.0   \n",
       "Woodland Middle School                 5.0   866.0            2.0   \n",
       "\n",
       "                             state_percentile_16  state_percentile_15  \\\n",
       "name                                                                    \n",
       "Allendale Elementary School                 90.2                 95.8   \n",
       "Beech Elementary                            95.2                 93.4   \n",
       "Blackman Elementary School                  92.4                 90.3   \n",
       "Brentwood High School                       96.3                 97.3   \n",
       "Brentwood Middle School                     98.0                 98.2   \n",
       "...                                          ...                  ...   \n",
       "Trinity Elementary                          98.2                 98.2   \n",
       "Union Elementary School                     94.7                 94.1   \n",
       "Walnut Grove Elementary                     98.5                 99.4   \n",
       "Winstead Elementary School                  93.9                 97.0   \n",
       "Woodland Middle School                      93.3                 97.1   \n",
       "\n",
       "                             stu_teach_ratio school_type  avg_score_15  \\\n",
       "name                                                                     \n",
       "Allendale Elementary School             15.7      Public          89.4   \n",
       "Beech Elementary                        15.6      Public          85.9   \n",
       "Blackman Elementary School              14.4      Public          82.5   \n",
       "Brentwood High School                   18.7      Public          89.8   \n",
       "Brentwood Middle School                 18.5      Public          91.1   \n",
       "...                                      ...         ...           ...   \n",
       "Trinity Elementary                      15.2      Public          93.8   \n",
       "Union Elementary School                 17.6      Public          87.3   \n",
       "Walnut Grove Elementary                 15.3      Public          95.2   \n",
       "Winstead Elementary School              14.3      Public          92.0   \n",
       "Woodland Middle School                  19.2      Public          89.8   \n",
       "\n",
       "                             avg_score_16  full_time_teachers  percent_black  \\\n",
       "name                                                                           \n",
       "Allendale Elementary School          85.2                54.0            2.9   \n",
       "Beech Elementary                     90.3                39.0            4.2   \n",
       "Blackman Elementary School           87.0                61.0           17.0   \n",
       "Brentwood High School                87.6                90.0            3.1   \n",
       "Brentwood Middle School              91.7                68.0            3.2   \n",
       "...                                   ...                 ...            ...   \n",
       "Trinity Elementary                   96.1                39.0            2.2   \n",
       "Union Elementary School              90.0                30.0            8.1   \n",
       "Walnut Grove Elementary              96.2                43.0            1.7   \n",
       "Winstead Elementary School           89.3                36.0            3.3   \n",
       "Woodland Middle School               84.9                45.0            4.5   \n",
       "\n",
       "                             percent_white  percent_asian  percent_hispanic  \n",
       "name                                                                         \n",
       "Allendale Elementary School           85.5            1.6               5.6  \n",
       "Beech Elementary                      90.5            0.3               3.1  \n",
       "Blackman Elementary School            67.3            6.9               5.7  \n",
       "Brentwood High School                 83.8            6.9               3.6  \n",
       "Brentwood Middle School               83.3            6.7               2.8  \n",
       "...                                    ...            ...               ...  \n",
       "Trinity Elementary                    86.2            4.0               3.5  \n",
       "Union Elementary School               86.4            1.5               1.3  \n",
       "Walnut Grove Elementary               89.4            4.1               2.6  \n",
       "Winstead Elementary School            87.4            3.1               4.1  \n",
       "Woodland Middle School                77.6           10.0               4.4  \n",
       "\n",
       "[78 rows x 14 columns]"
      ]
     },
     "execution_count": 132,
     "metadata": {},
     "output_type": "execute_result"
    }
   ],
   "source": [
    "school_rating_group.get_group(5.0)"
   ]
  },
  {
   "cell_type": "code",
   "execution_count": 144,
   "metadata": {},
   "outputs": [
    {
     "data": {
      "text/html": [
       "<div>\n",
       "<style scoped>\n",
       "    .dataframe tbody tr th:only-of-type {\n",
       "        vertical-align: middle;\n",
       "    }\n",
       "\n",
       "    .dataframe tbody tr th {\n",
       "        vertical-align: top;\n",
       "    }\n",
       "\n",
       "    .dataframe thead tr th {\n",
       "        text-align: left;\n",
       "    }\n",
       "\n",
       "    .dataframe thead tr:last-of-type th {\n",
       "        text-align: right;\n",
       "    }\n",
       "</style>\n",
       "<table border=\"1\" class=\"dataframe\">\n",
       "  <thead>\n",
       "    <tr>\n",
       "      <th></th>\n",
       "      <th colspan=\"8\" halign=\"left\">size</th>\n",
       "      <th colspan=\"2\" halign=\"left\">reduced_lunch</th>\n",
       "      <th>...</th>\n",
       "      <th colspan=\"2\" halign=\"left\">percent_asian</th>\n",
       "      <th colspan=\"8\" halign=\"left\">percent_hispanic</th>\n",
       "    </tr>\n",
       "    <tr>\n",
       "      <th></th>\n",
       "      <th>count</th>\n",
       "      <th>mean</th>\n",
       "      <th>std</th>\n",
       "      <th>min</th>\n",
       "      <th>25%</th>\n",
       "      <th>50%</th>\n",
       "      <th>75%</th>\n",
       "      <th>max</th>\n",
       "      <th>count</th>\n",
       "      <th>mean</th>\n",
       "      <th>...</th>\n",
       "      <th>75%</th>\n",
       "      <th>max</th>\n",
       "      <th>count</th>\n",
       "      <th>mean</th>\n",
       "      <th>std</th>\n",
       "      <th>min</th>\n",
       "      <th>25%</th>\n",
       "      <th>50%</th>\n",
       "      <th>75%</th>\n",
       "      <th>max</th>\n",
       "    </tr>\n",
       "    <tr>\n",
       "      <th>school_rating</th>\n",
       "      <th></th>\n",
       "      <th></th>\n",
       "      <th></th>\n",
       "      <th></th>\n",
       "      <th></th>\n",
       "      <th></th>\n",
       "      <th></th>\n",
       "      <th></th>\n",
       "      <th></th>\n",
       "      <th></th>\n",
       "      <th></th>\n",
       "      <th></th>\n",
       "      <th></th>\n",
       "      <th></th>\n",
       "      <th></th>\n",
       "      <th></th>\n",
       "      <th></th>\n",
       "      <th></th>\n",
       "      <th></th>\n",
       "      <th></th>\n",
       "      <th></th>\n",
       "    </tr>\n",
       "  </thead>\n",
       "  <tbody>\n",
       "    <tr>\n",
       "      <th>0.0</th>\n",
       "      <td>43.0</td>\n",
       "      <td>501.325581</td>\n",
       "      <td>217.273880</td>\n",
       "      <td>71.0</td>\n",
       "      <td>367.00</td>\n",
       "      <td>426.0</td>\n",
       "      <td>563.00</td>\n",
       "      <td>1002.0</td>\n",
       "      <td>43.0</td>\n",
       "      <td>83.581395</td>\n",
       "      <td>...</td>\n",
       "      <td>1.900</td>\n",
       "      <td>17.0</td>\n",
       "      <td>43.0</td>\n",
       "      <td>17.348837</td>\n",
       "      <td>19.811785</td>\n",
       "      <td>0.7</td>\n",
       "      <td>2.700</td>\n",
       "      <td>7.70</td>\n",
       "      <td>21.750</td>\n",
       "      <td>64.8</td>\n",
       "    </tr>\n",
       "    <tr>\n",
       "      <th>1.0</th>\n",
       "      <td>40.0</td>\n",
       "      <td>691.250000</td>\n",
       "      <td>476.695395</td>\n",
       "      <td>118.0</td>\n",
       "      <td>409.50</td>\n",
       "      <td>507.5</td>\n",
       "      <td>759.75</td>\n",
       "      <td>2314.0</td>\n",
       "      <td>40.0</td>\n",
       "      <td>74.950000</td>\n",
       "      <td>...</td>\n",
       "      <td>2.900</td>\n",
       "      <td>19.5</td>\n",
       "      <td>40.0</td>\n",
       "      <td>20.655000</td>\n",
       "      <td>15.259481</td>\n",
       "      <td>0.0</td>\n",
       "      <td>9.100</td>\n",
       "      <td>17.90</td>\n",
       "      <td>30.300</td>\n",
       "      <td>61.2</td>\n",
       "    </tr>\n",
       "    <tr>\n",
       "      <th>2.0</th>\n",
       "      <td>44.0</td>\n",
       "      <td>628.500000</td>\n",
       "      <td>349.591755</td>\n",
       "      <td>53.0</td>\n",
       "      <td>368.25</td>\n",
       "      <td>558.0</td>\n",
       "      <td>752.75</td>\n",
       "      <td>1771.0</td>\n",
       "      <td>44.0</td>\n",
       "      <td>64.272727</td>\n",
       "      <td>...</td>\n",
       "      <td>1.975</td>\n",
       "      <td>11.0</td>\n",
       "      <td>44.0</td>\n",
       "      <td>12.552273</td>\n",
       "      <td>9.995499</td>\n",
       "      <td>0.9</td>\n",
       "      <td>4.625</td>\n",
       "      <td>9.95</td>\n",
       "      <td>18.525</td>\n",
       "      <td>36.0</td>\n",
       "    </tr>\n",
       "    <tr>\n",
       "      <th>3.0</th>\n",
       "      <td>56.0</td>\n",
       "      <td>762.482143</td>\n",
       "      <td>399.760564</td>\n",
       "      <td>249.0</td>\n",
       "      <td>491.00</td>\n",
       "      <td>652.5</td>\n",
       "      <td>880.50</td>\n",
       "      <td>1983.0</td>\n",
       "      <td>56.0</td>\n",
       "      <td>50.285714</td>\n",
       "      <td>...</td>\n",
       "      <td>2.625</td>\n",
       "      <td>11.8</td>\n",
       "      <td>56.0</td>\n",
       "      <td>10.232143</td>\n",
       "      <td>9.373698</td>\n",
       "      <td>0.0</td>\n",
       "      <td>4.625</td>\n",
       "      <td>9.05</td>\n",
       "      <td>12.925</td>\n",
       "      <td>65.2</td>\n",
       "    </tr>\n",
       "    <tr>\n",
       "      <th>4.0</th>\n",
       "      <td>86.0</td>\n",
       "      <td>742.732558</td>\n",
       "      <td>403.389242</td>\n",
       "      <td>141.0</td>\n",
       "      <td>452.50</td>\n",
       "      <td>641.5</td>\n",
       "      <td>934.75</td>\n",
       "      <td>2025.0</td>\n",
       "      <td>86.0</td>\n",
       "      <td>41.000000</td>\n",
       "      <td>...</td>\n",
       "      <td>2.550</td>\n",
       "      <td>8.1</td>\n",
       "      <td>86.0</td>\n",
       "      <td>7.918605</td>\n",
       "      <td>7.250177</td>\n",
       "      <td>1.1</td>\n",
       "      <td>4.025</td>\n",
       "      <td>5.35</td>\n",
       "      <td>8.875</td>\n",
       "      <td>40.4</td>\n",
       "    </tr>\n",
       "    <tr>\n",
       "      <th>5.0</th>\n",
       "      <td>78.0</td>\n",
       "      <td>760.025641</td>\n",
       "      <td>429.780553</td>\n",
       "      <td>122.0</td>\n",
       "      <td>515.50</td>\n",
       "      <td>678.5</td>\n",
       "      <td>876.50</td>\n",
       "      <td>2251.0</td>\n",
       "      <td>78.0</td>\n",
       "      <td>21.602564</td>\n",
       "      <td>...</td>\n",
       "      <td>5.925</td>\n",
       "      <td>21.1</td>\n",
       "      <td>78.0</td>\n",
       "      <td>6.353846</td>\n",
       "      <td>6.055173</td>\n",
       "      <td>1.3</td>\n",
       "      <td>3.000</td>\n",
       "      <td>4.40</td>\n",
       "      <td>6.675</td>\n",
       "      <td>31.3</td>\n",
       "    </tr>\n",
       "  </tbody>\n",
       "</table>\n",
       "<p>6 rows × 96 columns</p>\n",
       "</div>"
      ],
      "text/plain": [
       "               size                                                        \\\n",
       "              count        mean         std    min     25%    50%     75%   \n",
       "school_rating                                                               \n",
       "0.0            43.0  501.325581  217.273880   71.0  367.00  426.0  563.00   \n",
       "1.0            40.0  691.250000  476.695395  118.0  409.50  507.5  759.75   \n",
       "2.0            44.0  628.500000  349.591755   53.0  368.25  558.0  752.75   \n",
       "3.0            56.0  762.482143  399.760564  249.0  491.00  652.5  880.50   \n",
       "4.0            86.0  742.732558  403.389242  141.0  452.50  641.5  934.75   \n",
       "5.0            78.0  760.025641  429.780553  122.0  515.50  678.5  876.50   \n",
       "\n",
       "                      reduced_lunch             ... percent_asian        \\\n",
       "                  max         count       mean  ...           75%   max   \n",
       "school_rating                                   ...                       \n",
       "0.0            1002.0          43.0  83.581395  ...         1.900  17.0   \n",
       "1.0            2314.0          40.0  74.950000  ...         2.900  19.5   \n",
       "2.0            1771.0          44.0  64.272727  ...         1.975  11.0   \n",
       "3.0            1983.0          56.0  50.285714  ...         2.625  11.8   \n",
       "4.0            2025.0          86.0  41.000000  ...         2.550   8.1   \n",
       "5.0            2251.0          78.0  21.602564  ...         5.925  21.1   \n",
       "\n",
       "              percent_hispanic                                           \\\n",
       "                         count       mean        std  min    25%    50%   \n",
       "school_rating                                                             \n",
       "0.0                       43.0  17.348837  19.811785  0.7  2.700   7.70   \n",
       "1.0                       40.0  20.655000  15.259481  0.0  9.100  17.90   \n",
       "2.0                       44.0  12.552273   9.995499  0.9  4.625   9.95   \n",
       "3.0                       56.0  10.232143   9.373698  0.0  4.625   9.05   \n",
       "4.0                       86.0   7.918605   7.250177  1.1  4.025   5.35   \n",
       "5.0                       78.0   6.353846   6.055173  1.3  3.000   4.40   \n",
       "\n",
       "                             \n",
       "                  75%   max  \n",
       "school_rating                \n",
       "0.0            21.750  64.8  \n",
       "1.0            30.300  61.2  \n",
       "2.0            18.525  36.0  \n",
       "3.0            12.925  65.2  \n",
       "4.0             8.875  40.4  \n",
       "5.0             6.675  31.3  \n",
       "\n",
       "[6 rows x 96 columns]"
      ]
     },
     "execution_count": 144,
     "metadata": {},
     "output_type": "execute_result"
    }
   ],
   "source": [
    "school_rating_group.describe()"
   ]
  },
  {
   "cell_type": "markdown",
   "metadata": {},
   "source": [
    "## Phase 3: Correlation analysis"
   ]
  },
  {
   "cell_type": "code",
   "execution_count": 149,
   "metadata": {},
   "outputs": [],
   "source": [
    "import matplotlib.pyplot as plt\n",
    "import seaborn as sns"
   ]
  },
  {
   "cell_type": "code",
   "execution_count": 156,
   "metadata": {},
   "outputs": [
    {
     "name": "stdout",
     "output_type": "stream",
     "text": [
      "                     school_rating      size  reduced_lunch  \\\n",
      "school_rating             1.000000  0.181428      -0.815757   \n",
      "size                      0.181428  1.000000      -0.277807   \n",
      "reduced_lunch            -0.815757 -0.277807       1.000000   \n",
      "state_percentile_16       0.985545  0.171060      -0.815720   \n",
      "state_percentile_15       0.937817  0.162887      -0.825085   \n",
      "stu_teach_ratio           0.203459  0.143173      -0.197428   \n",
      "avg_score_15              0.941336  0.161788      -0.839536   \n",
      "avg_score_16              0.982390  0.143289      -0.816479   \n",
      "full_time_teachers        0.122910  0.966880      -0.214848   \n",
      "percent_black            -0.593869 -0.148405       0.562921   \n",
      "percent_white             0.639014  0.102904      -0.668327   \n",
      "percent_asian             0.161469  0.193491      -0.226385   \n",
      "percent_hispanic         -0.376288 -0.017660       0.490446   \n",
      "\n",
      "                     state_percentile_16  state_percentile_15  \\\n",
      "school_rating                   0.985545             0.937817   \n",
      "size                            0.171060             0.162887   \n",
      "reduced_lunch                  -0.815720            -0.825085   \n",
      "state_percentile_16             1.000000             0.949694   \n",
      "state_percentile_15             0.949694             1.000000   \n",
      "stu_teach_ratio                 0.186893             0.141066   \n",
      "avg_score_15                    0.949197             0.991847   \n",
      "avg_score_16                    0.994085             0.946101   \n",
      "full_time_teachers              0.117061             0.109569   \n",
      "percent_black                  -0.573810            -0.564929   \n",
      "percent_white                   0.625374             0.612183   \n",
      "percent_asian                   0.151021             0.181822   \n",
      "percent_hispanic               -0.383017            -0.371708   \n",
      "\n",
      "                     stu_teach_ratio  avg_score_15  avg_score_16  \\\n",
      "school_rating               0.203459      0.941336      0.982390   \n",
      "size                        0.143173      0.161788      0.143289   \n",
      "reduced_lunch              -0.197428     -0.839536     -0.816479   \n",
      "state_percentile_16         0.186893      0.949197      0.994085   \n",
      "state_percentile_15         0.141066      0.991847      0.946101   \n",
      "stu_teach_ratio             1.000000      0.147963      0.175880   \n",
      "avg_score_15                0.147963      1.000000      0.953714   \n",
      "avg_score_16                0.175880      0.953714      1.000000   \n",
      "full_time_teachers          0.019594      0.105186      0.089338   \n",
      "percent_black              -0.122307     -0.595062     -0.592876   \n",
      "percent_white               0.134595      0.637500      0.635201   \n",
      "percent_asian               0.089211      0.192656      0.172739   \n",
      "percent_hispanic           -0.089307     -0.374300     -0.373618   \n",
      "\n",
      "                     full_time_teachers  percent_black  percent_white  \\\n",
      "school_rating                  0.122910      -0.593869       0.639014   \n",
      "size                           0.966880      -0.148405       0.102904   \n",
      "reduced_lunch                 -0.214848       0.562921      -0.668327   \n",
      "state_percentile_16            0.117061      -0.573810       0.625374   \n",
      "state_percentile_15            0.109569      -0.564929       0.612183   \n",
      "stu_teach_ratio                0.019594      -0.122307       0.134595   \n",
      "avg_score_15                   0.105186      -0.595062       0.637500   \n",
      "avg_score_16                   0.089338      -0.592876       0.635201   \n",
      "full_time_teachers             1.000000      -0.113515       0.055672   \n",
      "percent_black                 -0.113515       1.000000      -0.874202   \n",
      "percent_white                  0.055672      -0.874202       1.000000   \n",
      "percent_asian                  0.146726      -0.112274      -0.092287   \n",
      "percent_hispanic               0.026130       0.086627      -0.537571   \n",
      "\n",
      "                     percent_asian  percent_hispanic  \n",
      "school_rating             0.161469         -0.376288  \n",
      "size                      0.193491         -0.017660  \n",
      "reduced_lunch            -0.226385          0.490446  \n",
      "state_percentile_16       0.151021         -0.383017  \n",
      "state_percentile_15       0.181822         -0.371708  \n",
      "stu_teach_ratio           0.089211         -0.089307  \n",
      "avg_score_15              0.192656         -0.374300  \n",
      "avg_score_16              0.172739         -0.373618  \n",
      "full_time_teachers        0.146726          0.026130  \n",
      "percent_black            -0.112274          0.086627  \n",
      "percent_white            -0.092287         -0.537571  \n",
      "percent_asian             1.000000          0.187277  \n",
      "percent_hispanic          0.187277          1.000000  \n"
     ]
    }
   ],
   "source": [
    "corrmat = df.corr()\n",
    "print(corrmat)"
   ]
  },
  {
   "cell_type": "code",
   "execution_count": 154,
   "metadata": {},
   "outputs": [
    {
     "data": {
      "text/plain": [
       "-0.8157567373058027"
      ]
     },
     "execution_count": 154,
     "metadata": {},
     "output_type": "execute_result"
    }
   ],
   "source": [
    "df['school_rating'].corr(df['reduced_lunch'])"
   ]
  },
  {
   "cell_type": "code",
   "execution_count": 181,
   "metadata": {},
   "outputs": [
    {
     "data": {
      "text/plain": [
       "<matplotlib.axes._subplots.AxesSubplot at 0x1c4c00b7280>"
      ]
     },
     "execution_count": 181,
     "metadata": {},
     "output_type": "execute_result"
    },
    {
     "data": {
      "image/png": "[encoded data removed]",
      "text/plain": [
       "<Figure size 720x720 with 2 Axes>"
      ]
     },
     "metadata": {},
     "output_type": "display_data"
    }
   ],
   "source": [
    "fig, ax = plt.subplots(figsize=(10, 10))\n",
    "sns.heatmap(corrmat,ax = ax, cmap=\"YlGnBu\", linewidths = 0.1)"
   ]
  },
  {
   "cell_type": "markdown",
   "metadata": {},
   "source": [
    "## Phase 4: Scatter Plot"
   ]
  },
  {
   "cell_type": "code",
   "execution_count": 177,
   "metadata": {},
   "outputs": [
    {
     "data": {
      "image/png": "[encoded data removed]",
      "text/plain": [
       "<Figure size 576x576 with 1 Axes>"
      ]
     },
     "metadata": {},
     "output_type": "display_data"
    }
   ],
   "source": [
    "school_rating = df['school_rating']\n",
    "reduced_lunch = df['reduced_lunch']\n",
    "\n",
    "plt.style.use('seaborn')\n",
    "\n",
    "fig1, ax = plt.subplots(figsize=(8,8))\n",
    "\n",
    "ax.scatter(school_rating,reduced_lunch, edgecolor='black', linewidth=1, alpha=0.75)\n",
    "\n",
    "plt.xlabel('school rating')\n",
    "plt.ylabel('reduced lunch')\n",
    "plt.title('Scatter Plot: School rating vs Reduced lunch')\n",
    "plt.tight_layout()\n",
    "plt.show()"
   ]
  },
  {
   "cell_type": "markdown",
   "metadata": {},
   "source": [
    "## Extra"
   ]
  },
  {
   "cell_type": "code",
   "execution_count": 194,
   "metadata": {},
   "outputs": [
    {
     "data": {
      "image/png": "[encoded data removed]",
      "text/plain": [
       "<Figure size 576x396 with 1 Axes>"
      ]
     },
     "metadata": {},
     "output_type": "display_data"
    }
   ],
   "source": [
    "school_rating = df['school_rating']\n",
    "state_per = df['state_percentile_16']\n",
    "\n",
    "plt.style.use('seaborn')\n",
    "\n",
    "fig1, ax = plt.subplots()\n",
    "\n",
    "ax.barh(school_rating,state_per,linewidth=1, alpha=0.75)\n",
    "\n",
    "plt.xlabel('state percentile')\n",
    "plt.ylabel('school rating')\n",
    "plt.title('Scatter Plot: School rating vs state percentile')\n",
    "plt.tight_layout()\n",
    "plt.show()"
   ]
  },
  {
   "cell_type": "code",
   "execution_count": null,
   "metadata": {},
   "outputs": [],
   "source": []
  }
 ],
 "metadata": {
  "kernelspec": {
   "display_name": "Python 3",
   "language": "python",
   "name": "python3"
  },
  "language_info": {
   "codemirror_mode": {
    "name": "ipython",
    "version": 3
   },
   "file_extension": ".py",
   "mimetype": "text/x-python",
   "name": "python",
   "nbconvert_exporter": "python",
   "pygments_lexer": "ipython3",
   "version": "3.8.3"
  }
 },
 "nbformat": 4,
 "nbformat_minor": 4
}
