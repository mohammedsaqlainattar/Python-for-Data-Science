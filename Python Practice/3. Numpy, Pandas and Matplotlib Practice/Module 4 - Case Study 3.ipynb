{
 "cells": [
  {
   "cell_type": "markdown",
   "metadata": {},
   "source": [
    "# Author : Mohammed Saqlain Attar"
   ]
  },
  {
   "cell_type": "markdown",
   "metadata": {},
   "source": [
    "## 1.You are given a dataset, which is present in the LMS, containing the number of hurricanes occurring in the United States along the coast of the Atlantic. Load the data from the dataset into your program and plot a Bar Graph of the data, taking the Year as the x-axis and the number of hurricanes occurring as the Y-axis."
   ]
  },
  {
   "cell_type": "code",
   "execution_count": 1,
   "metadata": {},
   "outputs": [],
   "source": [
    "import pandas as pd\n",
    "from matplotlib import pyplot as plt"
   ]
  },
  {
   "cell_type": "code",
   "execution_count": 2,
   "metadata": {},
   "outputs": [
    {
     "data": {
      "text/html": [
       "<div>\n",
       "<style scoped>\n",
       "    .dataframe tbody tr th:only-of-type {\n",
       "        vertical-align: middle;\n",
       "    }\n",
       "\n",
       "    .dataframe tbody tr th {\n",
       "        vertical-align: top;\n",
       "    }\n",
       "\n",
       "    .dataframe thead th {\n",
       "        text-align: right;\n",
       "    }\n",
       "</style>\n",
       "<table border=\"1\" class=\"dataframe\">\n",
       "  <thead>\n",
       "    <tr style=\"text-align: right;\">\n",
       "      <th></th>\n",
       "      <th>Year</th>\n",
       "      <th>Hurricanes</th>\n",
       "    </tr>\n",
       "  </thead>\n",
       "  <tbody>\n",
       "    <tr>\n",
       "      <th>0</th>\n",
       "      <td>1914</td>\n",
       "      <td>0</td>\n",
       "    </tr>\n",
       "    <tr>\n",
       "      <th>1</th>\n",
       "      <td>1915</td>\n",
       "      <td>5</td>\n",
       "    </tr>\n",
       "    <tr>\n",
       "      <th>2</th>\n",
       "      <td>1916</td>\n",
       "      <td>10</td>\n",
       "    </tr>\n",
       "    <tr>\n",
       "      <th>3</th>\n",
       "      <td>1917</td>\n",
       "      <td>2</td>\n",
       "    </tr>\n",
       "    <tr>\n",
       "      <th>4</th>\n",
       "      <td>1918</td>\n",
       "      <td>4</td>\n",
       "    </tr>\n",
       "    <tr>\n",
       "      <th>...</th>\n",
       "      <td>...</td>\n",
       "      <td>...</td>\n",
       "    </tr>\n",
       "    <tr>\n",
       "      <th>96</th>\n",
       "      <td>2010</td>\n",
       "      <td>12</td>\n",
       "    </tr>\n",
       "    <tr>\n",
       "      <th>97</th>\n",
       "      <td>2011</td>\n",
       "      <td>7</td>\n",
       "    </tr>\n",
       "    <tr>\n",
       "      <th>98</th>\n",
       "      <td>2012</td>\n",
       "      <td>10</td>\n",
       "    </tr>\n",
       "    <tr>\n",
       "      <th>99</th>\n",
       "      <td>2013</td>\n",
       "      <td>2</td>\n",
       "    </tr>\n",
       "    <tr>\n",
       "      <th>100</th>\n",
       "      <td>2014</td>\n",
       "      <td>6</td>\n",
       "    </tr>\n",
       "  </tbody>\n",
       "</table>\n",
       "<p>101 rows × 2 columns</p>\n",
       "</div>"
      ],
      "text/plain": [
       "     Year  Hurricanes\n",
       "0    1914           0\n",
       "1    1915           5\n",
       "2    1916          10\n",
       "3    1917           2\n",
       "4    1918           4\n",
       "..    ...         ...\n",
       "96   2010          12\n",
       "97   2011           7\n",
       "98   2012          10\n",
       "99   2013           2\n",
       "100  2014           6\n",
       "\n",
       "[101 rows x 2 columns]"
      ]
     },
     "execution_count": 2,
     "metadata": {},
     "output_type": "execute_result"
    }
   ],
   "source": [
    "df1 = pd.read_csv(r'C:\\Users\\saqla\\Desktop\\Python Certification for Data Science\\Modules\\Module 4\\Dataset\\Hurricanes.csv')\n",
    "df1"
   ]
  },
  {
   "cell_type": "code",
   "execution_count": 3,
   "metadata": {},
   "outputs": [
    {
     "data": {
      "image/png": "[encoded data removed]",
      "text/plain": [
       "<Figure size 432x288 with 1 Axes>"
      ]
     },
     "metadata": {
      "needs_background": "light"
     },
     "output_type": "display_data"
    }
   ],
   "source": [
    "year = df1['Year']\n",
    "hurricanes = df1['Hurricanes']\n",
    "\n",
    "plt.bar(year,hurricanes)\n",
    "plt.title('Hurricanes')\n",
    "plt.xlabel('Year')\n",
    "plt.ylabel('No. of Hurricanes')\n",
    "plt.tight_layout()\n",
    "plt.show()"
   ]
  },
  {
   "cell_type": "markdown",
   "metadata": {},
   "source": [
    "## 2.The dataset given, records data of city temperatures over the years’2014 and 2015. Plot the histogram of the temperatures over this period for the cities of San Francisco and Moscow."
   ]
  },
  {
   "cell_type": "code",
   "execution_count": 4,
   "metadata": {},
   "outputs": [
    {
     "data": {
      "text/html": [
       "<div>\n",
       "<style scoped>\n",
       "    .dataframe tbody tr th:only-of-type {\n",
       "        vertical-align: middle;\n",
       "    }\n",
       "\n",
       "    .dataframe tbody tr th {\n",
       "        vertical-align: top;\n",
       "    }\n",
       "\n",
       "    .dataframe thead th {\n",
       "        text-align: right;\n",
       "    }\n",
       "</style>\n",
       "<table border=\"1\" class=\"dataframe\">\n",
       "  <thead>\n",
       "    <tr style=\"text-align: right;\">\n",
       "      <th></th>\n",
       "      <th>Year</th>\n",
       "      <th>Month</th>\n",
       "      <th>Moscow</th>\n",
       "      <th>Melbourne</th>\n",
       "      <th>San Francisco</th>\n",
       "    </tr>\n",
       "  </thead>\n",
       "  <tbody>\n",
       "    <tr>\n",
       "      <th>0</th>\n",
       "      <td>2014</td>\n",
       "      <td>1</td>\n",
       "      <td>-8.6</td>\n",
       "      <td>22.0</td>\n",
       "      <td>12.8</td>\n",
       "    </tr>\n",
       "    <tr>\n",
       "      <th>1</th>\n",
       "      <td>2014</td>\n",
       "      <td>2</td>\n",
       "      <td>-1.9</td>\n",
       "      <td>21.5</td>\n",
       "      <td>12.7</td>\n",
       "    </tr>\n",
       "    <tr>\n",
       "      <th>2</th>\n",
       "      <td>2014</td>\n",
       "      <td>3</td>\n",
       "      <td>2.8</td>\n",
       "      <td>19.5</td>\n",
       "      <td>15.0</td>\n",
       "    </tr>\n",
       "    <tr>\n",
       "      <th>3</th>\n",
       "      <td>2014</td>\n",
       "      <td>4</td>\n",
       "      <td>7.0</td>\n",
       "      <td>15.8</td>\n",
       "      <td>15.7</td>\n",
       "    </tr>\n",
       "    <tr>\n",
       "      <th>4</th>\n",
       "      <td>2014</td>\n",
       "      <td>5</td>\n",
       "      <td>16.0</td>\n",
       "      <td>13.9</td>\n",
       "      <td>17.5</td>\n",
       "    </tr>\n",
       "    <tr>\n",
       "      <th>5</th>\n",
       "      <td>2014</td>\n",
       "      <td>6</td>\n",
       "      <td>16.1</td>\n",
       "      <td>11.3</td>\n",
       "      <td>17.9</td>\n",
       "    </tr>\n",
       "    <tr>\n",
       "      <th>6</th>\n",
       "      <td>2014</td>\n",
       "      <td>7</td>\n",
       "      <td>21.1</td>\n",
       "      <td>9.9</td>\n",
       "      <td>19.4</td>\n",
       "    </tr>\n",
       "    <tr>\n",
       "      <th>7</th>\n",
       "      <td>2014</td>\n",
       "      <td>8</td>\n",
       "      <td>19.2</td>\n",
       "      <td>10.4</td>\n",
       "      <td>19.5</td>\n",
       "    </tr>\n",
       "    <tr>\n",
       "      <th>8</th>\n",
       "      <td>2014</td>\n",
       "      <td>9</td>\n",
       "      <td>12.3</td>\n",
       "      <td>12.8</td>\n",
       "      <td>20.2</td>\n",
       "    </tr>\n",
       "    <tr>\n",
       "      <th>9</th>\n",
       "      <td>2014</td>\n",
       "      <td>10</td>\n",
       "      <td>3.7</td>\n",
       "      <td>15.6</td>\n",
       "      <td>20.4</td>\n",
       "    </tr>\n",
       "    <tr>\n",
       "      <th>10</th>\n",
       "      <td>2014</td>\n",
       "      <td>11</td>\n",
       "      <td>-1.3</td>\n",
       "      <td>17.3</td>\n",
       "      <td>15.4</td>\n",
       "    </tr>\n",
       "    <tr>\n",
       "      <th>11</th>\n",
       "      <td>2014</td>\n",
       "      <td>12</td>\n",
       "      <td>-3.9</td>\n",
       "      <td>18.9</td>\n",
       "      <td>13.8</td>\n",
       "    </tr>\n",
       "    <tr>\n",
       "      <th>12</th>\n",
       "      <td>2015</td>\n",
       "      <td>1</td>\n",
       "      <td>-4.4</td>\n",
       "      <td>20.4</td>\n",
       "      <td>12.2</td>\n",
       "    </tr>\n",
       "    <tr>\n",
       "      <th>13</th>\n",
       "      <td>2015</td>\n",
       "      <td>2</td>\n",
       "      <td>-2.2</td>\n",
       "      <td>21.8</td>\n",
       "      <td>14.8</td>\n",
       "    </tr>\n",
       "    <tr>\n",
       "      <th>14</th>\n",
       "      <td>2015</td>\n",
       "      <td>3</td>\n",
       "      <td>2.0</td>\n",
       "      <td>17.4</td>\n",
       "      <td>15.7</td>\n",
       "    </tr>\n",
       "    <tr>\n",
       "      <th>15</th>\n",
       "      <td>2015</td>\n",
       "      <td>4</td>\n",
       "      <td>6.1</td>\n",
       "      <td>14.1</td>\n",
       "      <td>14.8</td>\n",
       "    </tr>\n",
       "    <tr>\n",
       "      <th>16</th>\n",
       "      <td>2015</td>\n",
       "      <td>5</td>\n",
       "      <td>14.2</td>\n",
       "      <td>12.6</td>\n",
       "      <td>14.7</td>\n",
       "    </tr>\n",
       "    <tr>\n",
       "      <th>17</th>\n",
       "      <td>2015</td>\n",
       "      <td>6</td>\n",
       "      <td>17.9</td>\n",
       "      <td>9.8</td>\n",
       "      <td>17.1</td>\n",
       "    </tr>\n",
       "    <tr>\n",
       "      <th>18</th>\n",
       "      <td>2015</td>\n",
       "      <td>7</td>\n",
       "      <td>18.3</td>\n",
       "      <td>8.9</td>\n",
       "      <td>19.3</td>\n",
       "    </tr>\n",
       "    <tr>\n",
       "      <th>19</th>\n",
       "      <td>2015</td>\n",
       "      <td>8</td>\n",
       "      <td>17.6</td>\n",
       "      <td>9.8</td>\n",
       "      <td>20.0</td>\n",
       "    </tr>\n",
       "    <tr>\n",
       "      <th>20</th>\n",
       "      <td>2015</td>\n",
       "      <td>9</td>\n",
       "      <td>13.8</td>\n",
       "      <td>12.1</td>\n",
       "      <td>19.5</td>\n",
       "    </tr>\n",
       "    <tr>\n",
       "      <th>21</th>\n",
       "      <td>2015</td>\n",
       "      <td>10</td>\n",
       "      <td>4.4</td>\n",
       "      <td>18.1</td>\n",
       "      <td>18.7</td>\n",
       "    </tr>\n",
       "    <tr>\n",
       "      <th>22</th>\n",
       "      <td>2015</td>\n",
       "      <td>11</td>\n",
       "      <td>0.8</td>\n",
       "      <td>17.4</td>\n",
       "      <td>12.4</td>\n",
       "    </tr>\n",
       "    <tr>\n",
       "      <th>23</th>\n",
       "      <td>2015</td>\n",
       "      <td>12</td>\n",
       "      <td>0.2</td>\n",
       "      <td>21.3</td>\n",
       "      <td>10.3</td>\n",
       "    </tr>\n",
       "  </tbody>\n",
       "</table>\n",
       "</div>"
      ],
      "text/plain": [
       "    Year  Month  Moscow  Melbourne  San Francisco\n",
       "0   2014      1    -8.6       22.0           12.8\n",
       "1   2014      2    -1.9       21.5           12.7\n",
       "2   2014      3     2.8       19.5           15.0\n",
       "3   2014      4     7.0       15.8           15.7\n",
       "4   2014      5    16.0       13.9           17.5\n",
       "5   2014      6    16.1       11.3           17.9\n",
       "6   2014      7    21.1        9.9           19.4\n",
       "7   2014      8    19.2       10.4           19.5\n",
       "8   2014      9    12.3       12.8           20.2\n",
       "9   2014     10     3.7       15.6           20.4\n",
       "10  2014     11    -1.3       17.3           15.4\n",
       "11  2014     12    -3.9       18.9           13.8\n",
       "12  2015      1    -4.4       20.4           12.2\n",
       "13  2015      2    -2.2       21.8           14.8\n",
       "14  2015      3     2.0       17.4           15.7\n",
       "15  2015      4     6.1       14.1           14.8\n",
       "16  2015      5    14.2       12.6           14.7\n",
       "17  2015      6    17.9        9.8           17.1\n",
       "18  2015      7    18.3        8.9           19.3\n",
       "19  2015      8    17.6        9.8           20.0\n",
       "20  2015      9    13.8       12.1           19.5\n",
       "21  2015     10     4.4       18.1           18.7\n",
       "22  2015     11     0.8       17.4           12.4\n",
       "23  2015     12     0.2       21.3           10.3"
      ]
     },
     "execution_count": 4,
     "metadata": {},
     "output_type": "execute_result"
    }
   ],
   "source": [
    "df2 = pd.read_csv(r'C:\\Users\\saqla\\Desktop\\Python Certification for Data Science\\Modules\\Module 4\\Dataset\\CityTemps.csv')\n",
    "df2"
   ]
  },
  {
   "cell_type": "code",
   "execution_count": 5,
   "metadata": {},
   "outputs": [
    {
     "data": {
      "image/png": "[encoded data removed]",
      "text/plain": [
       "<Figure size 720x720 with 2 Axes>"
      ]
     },
     "metadata": {},
     "output_type": "display_data"
    }
   ],
   "source": [
    "SF = df2['San Francisco']\n",
    "moscow = df2['Moscow']\n",
    "\n",
    "plt.style.use('fivethirtyeight')\n",
    "\n",
    "fig, (ax1,ax2) = plt.subplots(nrows=2,ncols=1,figsize=(10,10))\n",
    "\n",
    "moscow_bins = [-10,-5,0,5,10,15,20,25]\n",
    "sf_bins = [10,12,14,16,18,20,22,24]\n",
    "\n",
    "ax1.hist(SF, edgecolor='black', label='SAN FRANCISCO', bins=sf_bins)\n",
    "ax1.legend()\n",
    "ax1.set_title('City Temperature Histogram')\n",
    "ax1.set_xlabel('Temperature')\n",
    "ax1.set_ylabel('Frequency')\n",
    "\n",
    "ax2.hist(moscow, edgecolor='black', label='MOSCOW', bins=moscow_bins)\n",
    "ax2.legend()\n",
    "ax2.set_xlabel('Temperature')\n",
    "ax2.set_ylabel('Frequency')\n",
    "\n",
    "plt.tight_layout()\n",
    "\n",
    "plt.show()"
   ]
  },
  {
   "cell_type": "markdown",
   "metadata": {},
   "source": [
    "## 3.Create csv file from the data file available in LMS which goes by the name ‘M4_assign_dataset’and read this file into apandas data frame"
   ]
  },
  {
   "cell_type": "code",
   "execution_count": 6,
   "metadata": {},
   "outputs": [
    {
     "data": {
      "text/html": [
       "<div>\n",
       "<style scoped>\n",
       "    .dataframe tbody tr th:only-of-type {\n",
       "        vertical-align: middle;\n",
       "    }\n",
       "\n",
       "    .dataframe tbody tr th {\n",
       "        vertical-align: top;\n",
       "    }\n",
       "\n",
       "    .dataframe thead th {\n",
       "        text-align: right;\n",
       "    }\n",
       "</style>\n",
       "<table border=\"1\" class=\"dataframe\">\n",
       "  <thead>\n",
       "    <tr style=\"text-align: right;\">\n",
       "      <th></th>\n",
       "      <th>account_number</th>\n",
       "      <th>name</th>\n",
       "      <th>item_code</th>\n",
       "      <th>category</th>\n",
       "      <th>quantity</th>\n",
       "      <th>unit price</th>\n",
       "      <th>net_price</th>\n",
       "      <th>date</th>\n",
       "    </tr>\n",
       "  </thead>\n",
       "  <tbody>\n",
       "    <tr>\n",
       "      <th>0</th>\n",
       "      <td>296809</td>\n",
       "      <td>Carroll PLC</td>\n",
       "      <td>QN-82852</td>\n",
       "      <td>Belt</td>\n",
       "      <td>13</td>\n",
       "      <td>44.48</td>\n",
       "      <td>578.24</td>\n",
       "      <td>2014-09-27 07:13:03</td>\n",
       "    </tr>\n",
       "    <tr>\n",
       "      <th>1</th>\n",
       "      <td>98022</td>\n",
       "      <td>Heidenreich-Bosco</td>\n",
       "      <td>MJ-21460</td>\n",
       "      <td>Shoes</td>\n",
       "      <td>19</td>\n",
       "      <td>53.62</td>\n",
       "      <td>1018.78</td>\n",
       "      <td>2014-07-29 02:10:44</td>\n",
       "    </tr>\n",
       "    <tr>\n",
       "      <th>2</th>\n",
       "      <td>563905</td>\n",
       "      <td>Kerluke, Reilly and Bechtelar</td>\n",
       "      <td>AS-93055</td>\n",
       "      <td>Shirt</td>\n",
       "      <td>12</td>\n",
       "      <td>24.16</td>\n",
       "      <td>289.92</td>\n",
       "      <td>2014-03-01 10:51:24</td>\n",
       "    </tr>\n",
       "    <tr>\n",
       "      <th>3</th>\n",
       "      <td>93356</td>\n",
       "      <td>Waters-Walker</td>\n",
       "      <td>AS-93055</td>\n",
       "      <td>Shirt</td>\n",
       "      <td>5</td>\n",
       "      <td>82.68</td>\n",
       "      <td>413.40</td>\n",
       "      <td>2013-11-17 20:41:11</td>\n",
       "    </tr>\n",
       "    <tr>\n",
       "      <th>4</th>\n",
       "      <td>659366</td>\n",
       "      <td>Waelchi-Fahey</td>\n",
       "      <td>AS-93055</td>\n",
       "      <td>Shirt</td>\n",
       "      <td>18</td>\n",
       "      <td>99.64</td>\n",
       "      <td>1793.52</td>\n",
       "      <td>2014-01-03 08:14:27</td>\n",
       "    </tr>\n",
       "    <tr>\n",
       "      <th>...</th>\n",
       "      <td>...</td>\n",
       "      <td>...</td>\n",
       "      <td>...</td>\n",
       "      <td>...</td>\n",
       "      <td>...</td>\n",
       "      <td>...</td>\n",
       "      <td>...</td>\n",
       "      <td>...</td>\n",
       "    </tr>\n",
       "    <tr>\n",
       "      <th>995</th>\n",
       "      <td>758133</td>\n",
       "      <td>Kihn, McClure and Denesik</td>\n",
       "      <td>WJ-02096</td>\n",
       "      <td>Belt</td>\n",
       "      <td>11</td>\n",
       "      <td>60.50</td>\n",
       "      <td>665.50</td>\n",
       "      <td>2014-08-03 10:39:51</td>\n",
       "    </tr>\n",
       "    <tr>\n",
       "      <th>996</th>\n",
       "      <td>850140</td>\n",
       "      <td>Kunze Inc</td>\n",
       "      <td>GS-86623</td>\n",
       "      <td>Shoes</td>\n",
       "      <td>16</td>\n",
       "      <td>19.66</td>\n",
       "      <td>314.56</td>\n",
       "      <td>2014-05-03 21:18:15</td>\n",
       "    </tr>\n",
       "    <tr>\n",
       "      <th>997</th>\n",
       "      <td>93356</td>\n",
       "      <td>Waters-Walker</td>\n",
       "      <td>GS-86623</td>\n",
       "      <td>Shoes</td>\n",
       "      <td>13</td>\n",
       "      <td>90.95</td>\n",
       "      <td>1182.35</td>\n",
       "      <td>2014-06-14 12:43:51</td>\n",
       "    </tr>\n",
       "    <tr>\n",
       "      <th>998</th>\n",
       "      <td>304860</td>\n",
       "      <td>Huel-Haag</td>\n",
       "      <td>LL-46261</td>\n",
       "      <td>Shoes</td>\n",
       "      <td>9</td>\n",
       "      <td>98.22</td>\n",
       "      <td>883.98</td>\n",
       "      <td>2014-07-26 01:10:57</td>\n",
       "    </tr>\n",
       "    <tr>\n",
       "      <th>999</th>\n",
       "      <td>98022</td>\n",
       "      <td>Heidenreich-Bosco</td>\n",
       "      <td>LW-86841</td>\n",
       "      <td>Shoes</td>\n",
       "      <td>14</td>\n",
       "      <td>74.83</td>\n",
       "      <td>1047.62</td>\n",
       "      <td>2014-06-27 05:58:33</td>\n",
       "    </tr>\n",
       "  </tbody>\n",
       "</table>\n",
       "<p>1000 rows × 8 columns</p>\n",
       "</div>"
      ],
      "text/plain": [
       "     account_number                           name item_code category  \\\n",
       "0            296809                    Carroll PLC  QN-82852     Belt   \n",
       "1             98022              Heidenreich-Bosco  MJ-21460    Shoes   \n",
       "2            563905  Kerluke, Reilly and Bechtelar  AS-93055    Shirt   \n",
       "3             93356                  Waters-Walker  AS-93055    Shirt   \n",
       "4            659366                  Waelchi-Fahey  AS-93055    Shirt   \n",
       "..              ...                            ...       ...      ...   \n",
       "995          758133      Kihn, McClure and Denesik  WJ-02096     Belt   \n",
       "996          850140                      Kunze Inc  GS-86623    Shoes   \n",
       "997           93356                  Waters-Walker  GS-86623    Shoes   \n",
       "998          304860                      Huel-Haag  LL-46261    Shoes   \n",
       "999           98022              Heidenreich-Bosco  LW-86841    Shoes   \n",
       "\n",
       "     quantity  unit price  net_price                 date  \n",
       "0          13       44.48     578.24  2014-09-27 07:13:03  \n",
       "1          19       53.62    1018.78  2014-07-29 02:10:44  \n",
       "2          12       24.16     289.92  2014-03-01 10:51:24  \n",
       "3           5       82.68     413.40  2013-11-17 20:41:11  \n",
       "4          18       99.64    1793.52  2014-01-03 08:14:27  \n",
       "..        ...         ...        ...                  ...  \n",
       "995        11       60.50     665.50  2014-08-03 10:39:51  \n",
       "996        16       19.66     314.56  2014-05-03 21:18:15  \n",
       "997        13       90.95    1182.35  2014-06-14 12:43:51  \n",
       "998         9       98.22     883.98  2014-07-26 01:10:57  \n",
       "999        14       74.83    1047.62  2014-06-27 05:58:33  \n",
       "\n",
       "[1000 rows x 8 columns]"
      ]
     },
     "execution_count": 6,
     "metadata": {},
     "output_type": "execute_result"
    }
   ],
   "source": [
    "df3 = pd.read_csv(r'C:\\Users\\saqla\\Desktop\\Python Certification for Data Science\\Modules\\Module 4\\Dataset\\data_file.txt')\n",
    "df3"
   ]
  },
  {
   "cell_type": "code",
   "execution_count": 7,
   "metadata": {},
   "outputs": [],
   "source": [
    "df3.to_csv(r'C:\\Users\\saqla\\Desktop\\Python Certification for Data Science\\Modules\\Module 4\\Dataset\\data_file.csv')"
   ]
  },
  {
   "cell_type": "markdown",
   "metadata": {},
   "source": [
    "## 4.Let the x axis data points and y axis data points are\n",
    "## X = [1,2,3,4]\n",
    "## y = [20, 21, 20.5, 20.8]\n",
    "## 5.1: Draw a Simple plot\n",
    "## 5.2: Configure the line and markers in simple plot\n",
    "## 5.3: configure the axes\n",
    "## 5.4: Give title of Graph & labels of x axis and y axis\n",
    "## 5.5: Give error bar if  y_error = [0.12, 0.13, 0.2, 0.1]\n",
    "## 5.6: define width, height as figsize=(4,5) DPI and adjust plot dpi=100\n",
    "## 5.7: Give a font size of 14\n",
    "## 5.8: Draw a scatter graph of any 50 random values of x and y axis\n",
    "## 5.9: Create a dataframe from following data'first_name': ['Jason', 'Molly', 'Tina', 'Jake', 'Amy'], 'last_name': ['Miller', 'Jacobson', 'Ali', 'Milner', 'Cooze'], 'female': [0, 1, 1, 0, 1],'age': [42, 52, 36, 24, 73], 'preTestScore': [4, 24, 31, 2, 3],'postTestScore': [25, 94, 57, 62, 70]\n",
    "## Draw a Scatterplot of preTestScore and postTestScore, with the size of each point determined by age\n",
    "## 5.10: Draw a Scatterplot from the data in question 9 of preTestScore and postTestScore with the size = 300 and the color determined by sex\n"
   ]
  },
  {
   "cell_type": "markdown",
   "metadata": {},
   "source": [
    "# Solution"
   ]
  },
  {
   "cell_type": "markdown",
   "metadata": {},
   "source": [
    "## 5.1 : Draw a Simple plot"
   ]
  },
  {
   "cell_type": "code",
   "execution_count": 8,
   "metadata": {},
   "outputs": [
    {
     "data": {
      "image/png": "[encoded data removed]",
      "text/plain": [
       "<Figure size 432x288 with 1 Axes>"
      ]
     },
     "metadata": {},
     "output_type": "display_data"
    }
   ],
   "source": [
    "X = [1,2,3,4]\n",
    "y = [20, 21, 20.5, 20.8]\n",
    "\n",
    "plt.plot(X,y, linewidth=2)\n",
    "\n",
    "plt.title('Simple Plot')\n",
    "\n",
    "plt.tight_layout()\n",
    "plt.show()"
   ]
  },
  {
   "cell_type": "markdown",
   "metadata": {},
   "source": [
    "## 5.2,5.3,5.4"
   ]
  },
  {
   "cell_type": "code",
   "execution_count": 9,
   "metadata": {},
   "outputs": [
    {
     "data": {
      "image/png": "[encoded data removed]",
      "text/plain": [
       "<Figure size 432x288 with 1 Axes>"
      ]
     },
     "metadata": {},
     "output_type": "display_data"
    }
   ],
   "source": [
    "plt.plot(X,y, linewidth=2, marker='o',linestyle='--')\n",
    "\n",
    "plt.title('Simple Plot')\n",
    "plt.xlabel('X')\n",
    "plt.ylabel('y')\n",
    "plt.tight_layout()\n",
    "plt.show()"
   ]
  },
  {
   "cell_type": "markdown",
   "metadata": {},
   "source": [
    "## 5.5: Give error bar if  y_error = [0.12, 0.13, 0.2, 0.1]"
   ]
  },
  {
   "cell_type": "code",
   "execution_count": 10,
   "metadata": {},
   "outputs": [
    {
     "data": {
      "image/png": "[encoded data removed]",
      "text/plain": [
       "<Figure size 432x288 with 1 Axes>"
      ]
     },
     "metadata": {},
     "output_type": "display_data"
    }
   ],
   "source": [
    "y_error = [0.12, 0.13, 0.2, 0.1]\n",
    "\n",
    "plt.plot(X,y, linewidth=2, marker='o',linestyle='--')\n",
    "plt.plot(X,y_error, color='red')\n",
    "\n",
    "\n",
    "plt.title('Simple Plot')\n",
    "plt.xlabel('X')\n",
    "plt.ylabel('y')\n",
    "plt.tight_layout()\n",
    "plt.show()"
   ]
  },
  {
   "cell_type": "markdown",
   "metadata": {},
   "source": [
    "## 5.6: define width, height as figsize=(4,5) DPI and adjust plot dpi=100\""
   ]
  },
  {
   "cell_type": "code",
   "execution_count": 11,
   "metadata": {},
   "outputs": [
    {
     "data": {
      "image/png": "[encoded data removed]",
      "text/plain": [
       "<Figure size 432x288 with 1 Axes>"
      ]
     },
     "metadata": {},
     "output_type": "display_data"
    },
    {
     "data": {
      "text/plain": [
       "<Figure size 400x500 with 0 Axes>"
      ]
     },
     "metadata": {},
     "output_type": "display_data"
    }
   ],
   "source": [
    "plt.plot(X,y, linewidth=2, marker='o',linestyle='--')\n",
    "plt.plot(X,y_error, color='red')\n",
    "\n",
    "\n",
    "plt.title('Simple Plot')\n",
    "plt.xlabel('X')\n",
    "plt.ylabel('y')\n",
    "plt.figure(figsize=(4,5),dpi=100)\n",
    "plt.tight_layout()\n",
    "plt.show()"
   ]
  },
  {
   "cell_type": "markdown",
   "metadata": {},
   "source": [
    "# 5.7: Give a font size of 14"
   ]
  },
  {
   "cell_type": "code",
   "execution_count": 12,
   "metadata": {},
   "outputs": [
    {
     "data": {
      "image/png": "[encoded data removed]",
      "text/plain": [
       "<Figure size 432x288 with 1 Axes>"
      ]
     },
     "metadata": {},
     "output_type": "display_data"
    }
   ],
   "source": [
    "plt.plot(X,y, linewidth=2, marker='o',linestyle='--')\n",
    "plt.plot(X,y_error, color='red')\n",
    "\n",
    "\n",
    "plt.title('Simple Plot')\n",
    "plt.xlabel('X')\n",
    "plt.ylabel('y')\n",
    "plt.rc('font', size=14)\n",
    "plt.tight_layout()\n",
    "plt.show()"
   ]
  },
  {
   "cell_type": "markdown",
   "metadata": {},
   "source": [
    "## 5.8: Draw a scatter graph of any 50 random values of x and y axis"
   ]
  },
  {
   "cell_type": "code",
   "execution_count": 13,
   "metadata": {},
   "outputs": [],
   "source": [
    "import numpy as np"
   ]
  },
  {
   "cell_type": "code",
   "execution_count": 14,
   "metadata": {},
   "outputs": [],
   "source": [
    "x1 = np.random.randint(low=0, high=100, size=50)\n",
    "y1 = np.random.randint(low=0, high=200, size=50)"
   ]
  },
  {
   "cell_type": "code",
   "execution_count": 15,
   "metadata": {},
   "outputs": [
    {
     "data": {
      "image/png": "[encoded data removed]",
      "text/plain": [
       "<Figure size 432x288 with 1 Axes>"
      ]
     },
     "metadata": {},
     "output_type": "display_data"
    }
   ],
   "source": [
    "plt.scatter(x1,y1, s=100, c='green', edgecolor='black', linewidth=1, alpha=0.75)\n",
    "plt.xlabel('x1')\n",
    "plt.ylabel('y1')\n",
    "plt.title('Scatter Plot')\n",
    "plt.tight_layout()\n",
    "plt.show()"
   ]
  },
  {
   "cell_type": "markdown",
   "metadata": {},
   "source": [
    "## 5.9: Create a dataframe from following data\n",
    "## 'first_name': ['Jason', 'Molly', 'Tina', 'Jake', 'Amy'], \n",
    "## 'last_name': ['Miller', 'Jacobson', 'Ali', 'Milner', 'Cooze'], \n",
    "## 'female': [0, 1, 1, 0, 1],\n",
    "## 'age': [42, 52, 36, 24, 73], \n",
    "## 'preTestScore': [4, 24, 31, 2, 3],\n",
    "## 'postTestScore': [25, 94, 57, 62, 70]\n",
    "## Draw a Scatterplot of preTestScore and postTestScore, with the size of each point determined by age"
   ]
  },
  {
   "cell_type": "code",
   "execution_count": 16,
   "metadata": {},
   "outputs": [
    {
     "data": {
      "text/html": [
       "<div>\n",
       "<style scoped>\n",
       "    .dataframe tbody tr th:only-of-type {\n",
       "        vertical-align: middle;\n",
       "    }\n",
       "\n",
       "    .dataframe tbody tr th {\n",
       "        vertical-align: top;\n",
       "    }\n",
       "\n",
       "    .dataframe thead th {\n",
       "        text-align: right;\n",
       "    }\n",
       "</style>\n",
       "<table border=\"1\" class=\"dataframe\">\n",
       "  <thead>\n",
       "    <tr style=\"text-align: right;\">\n",
       "      <th></th>\n",
       "      <th>first_name</th>\n",
       "      <th>last_name</th>\n",
       "      <th>female</th>\n",
       "      <th>age</th>\n",
       "      <th>preTestScore</th>\n",
       "      <th>postTestScore</th>\n",
       "    </tr>\n",
       "  </thead>\n",
       "  <tbody>\n",
       "    <tr>\n",
       "      <th>0</th>\n",
       "      <td>Jason</td>\n",
       "      <td>Miller</td>\n",
       "      <td>0</td>\n",
       "      <td>42</td>\n",
       "      <td>4</td>\n",
       "      <td>25</td>\n",
       "    </tr>\n",
       "    <tr>\n",
       "      <th>1</th>\n",
       "      <td>Molly</td>\n",
       "      <td>Jacobson</td>\n",
       "      <td>1</td>\n",
       "      <td>52</td>\n",
       "      <td>24</td>\n",
       "      <td>94</td>\n",
       "    </tr>\n",
       "    <tr>\n",
       "      <th>2</th>\n",
       "      <td>Tina</td>\n",
       "      <td>Ali</td>\n",
       "      <td>1</td>\n",
       "      <td>36</td>\n",
       "      <td>31</td>\n",
       "      <td>57</td>\n",
       "    </tr>\n",
       "    <tr>\n",
       "      <th>3</th>\n",
       "      <td>Jake</td>\n",
       "      <td>Milner</td>\n",
       "      <td>0</td>\n",
       "      <td>24</td>\n",
       "      <td>2</td>\n",
       "      <td>62</td>\n",
       "    </tr>\n",
       "    <tr>\n",
       "      <th>4</th>\n",
       "      <td>Amy</td>\n",
       "      <td>Cooze</td>\n",
       "      <td>1</td>\n",
       "      <td>73</td>\n",
       "      <td>3</td>\n",
       "      <td>70</td>\n",
       "    </tr>\n",
       "  </tbody>\n",
       "</table>\n",
       "</div>"
      ],
      "text/plain": [
       "  first_name last_name  female  age  preTestScore  postTestScore\n",
       "0      Jason    Miller       0   42             4             25\n",
       "1      Molly  Jacobson       1   52            24             94\n",
       "2       Tina       Ali       1   36            31             57\n",
       "3       Jake    Milner       0   24             2             62\n",
       "4        Amy     Cooze       1   73             3             70"
      ]
     },
     "execution_count": 16,
     "metadata": {},
     "output_type": "execute_result"
    }
   ],
   "source": [
    "data = {\n",
    "    'first_name': ['Jason', 'Molly', 'Tina', 'Jake', 'Amy'],\n",
    "    'last_name': ['Miller', 'Jacobson', 'Ali', 'Milner', 'Cooze'],\n",
    "    'female': [0, 1, 1, 0, 1],\n",
    "    'age': [42, 52, 36, 24, 73],\n",
    "    'preTestScore': [4, 24, 31, 2, 3],\n",
    "    'postTestScore': [25, 94, 57, 62, 70]\n",
    "}\n",
    "\n",
    "df3 = pd.DataFrame(data)\n",
    "\n",
    "df3"
   ]
  },
  {
   "cell_type": "markdown",
   "metadata": {},
   "source": [
    "### Draw a Scatterplot of preTestScore and postTestScore, with the size of each point determined by age"
   ]
  },
  {
   "cell_type": "code",
   "execution_count": 17,
   "metadata": {},
   "outputs": [],
   "source": [
    "pre_test = df3['preTestScore']\n",
    "post_test = df3['postTestScore']\n",
    "age = df3['age']\n",
    "sex = df3['female']"
   ]
  },
  {
   "cell_type": "code",
   "execution_count": 18,
   "metadata": {},
   "outputs": [
    {
     "data": {
      "image/png": "[encoded data removed]",
      "text/plain": [
       "<Figure size 432x288 with 1 Axes>"
      ]
     },
     "metadata": {},
     "output_type": "display_data"
    }
   ],
   "source": [
    "plt.scatter(pre_test,post_test, s=age, c='blue', edgecolor='black', linewidth=1, alpha=0.75)\n",
    "plt.xlabel('preTestScore')\n",
    "plt.ylabel('postTestScore')\n",
    "plt.title('preTestScore vs postTestScore')\n",
    "plt.tight_layout()\n",
    "plt.show()"
   ]
  },
  {
   "cell_type": "markdown",
   "metadata": {},
   "source": [
    "## 5.10: Draw a Scatterplot from the data in question 9 of preTestScore and postTestScore with the size = 300 and the color determined by sex\n"
   ]
  },
  {
   "cell_type": "code",
   "execution_count": 19,
   "metadata": {},
   "outputs": [
    {
     "data": {
      "image/png": "[encoded data removed]",
      "text/plain": [
       "<Figure size 432x288 with 1 Axes>"
      ]
     },
     "metadata": {},
     "output_type": "display_data"
    },
    {
     "data": {
      "text/plain": [
       "<Figure size 720x720 with 0 Axes>"
      ]
     },
     "metadata": {},
     "output_type": "display_data"
    }
   ],
   "source": [
    "plt.scatter(pre_test,post_test, s=300, c=sex, edgecolor='black', linewidth=1, alpha=0.75)\n",
    "plt.xlabel('preTestScore')\n",
    "plt.ylabel('postTestScore')\n",
    "plt.title('preTestScore vs postTestScore')\n",
    "plt.figure(figsize=(10,10))\n",
    "plt.tight_layout()\n",
    "plt.show()"
   ]
  }
 ],
 "metadata": {
  "kernelspec": {
   "display_name": "Python 3",
   "language": "python",
   "name": "python3"
  },
  "language_info": {
   "codemirror_mode": {
    "name": "ipython",
    "version": 3
   },
   "file_extension": ".py",
   "mimetype": "text/x-python",
   "name": "python",
   "nbconvert_exporter": "python",
   "pygments_lexer": "ipython3",
   "version": "3.8.3"
  }
 },
 "nbformat": 4,
 "nbformat_minor": 4
}
