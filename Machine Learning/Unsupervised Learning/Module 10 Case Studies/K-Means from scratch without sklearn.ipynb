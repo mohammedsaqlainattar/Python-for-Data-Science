{
 "cells": [
  {
   "cell_type": "code",
   "execution_count": 1,
   "metadata": {},
   "outputs": [
    {
     "name": "stdout",
     "output_type": "stream",
     "text": [
      "(5043, 28)\n"
     ]
    },
    {
     "data": {
      "text/html": [
       "<div>\n",
       "<style scoped>\n",
       "    .dataframe tbody tr th:only-of-type {\n",
       "        vertical-align: middle;\n",
       "    }\n",
       "\n",
       "    .dataframe tbody tr th {\n",
       "        vertical-align: top;\n",
       "    }\n",
       "\n",
       "    .dataframe thead th {\n",
       "        text-align: right;\n",
       "    }\n",
       "</style>\n",
       "<table border=\"1\" class=\"dataframe\">\n",
       "  <thead>\n",
       "    <tr style=\"text-align: right;\">\n",
       "      <th></th>\n",
       "      <th>color</th>\n",
       "      <th>director_name</th>\n",
       "      <th>num_critic_for_reviews</th>\n",
       "      <th>duration</th>\n",
       "      <th>director_facebook_likes</th>\n",
       "      <th>actor_3_facebook_likes</th>\n",
       "      <th>actor_2_name</th>\n",
       "      <th>actor_1_facebook_likes</th>\n",
       "      <th>gross</th>\n",
       "      <th>genres</th>\n",
       "      <th>...</th>\n",
       "      <th>num_user_for_reviews</th>\n",
       "      <th>language</th>\n",
       "      <th>country</th>\n",
       "      <th>content_rating</th>\n",
       "      <th>budget</th>\n",
       "      <th>title_year</th>\n",
       "      <th>actor_2_facebook_likes</th>\n",
       "      <th>imdb_score</th>\n",
       "      <th>aspect_ratio</th>\n",
       "      <th>movie_facebook_likes</th>\n",
       "    </tr>\n",
       "  </thead>\n",
       "  <tbody>\n",
       "    <tr>\n",
       "      <th>0</th>\n",
       "      <td>Color</td>\n",
       "      <td>James Cameron</td>\n",
       "      <td>723</td>\n",
       "      <td>178</td>\n",
       "      <td>0</td>\n",
       "      <td>855</td>\n",
       "      <td>Joel David Moore</td>\n",
       "      <td>1000</td>\n",
       "      <td>760505847</td>\n",
       "      <td>Action|Adventure|Fantasy|Sci-Fi</td>\n",
       "      <td>...</td>\n",
       "      <td>3054</td>\n",
       "      <td>English</td>\n",
       "      <td>USA</td>\n",
       "      <td>PG-13</td>\n",
       "      <td>237000000</td>\n",
       "      <td>2009</td>\n",
       "      <td>936</td>\n",
       "      <td>7.9</td>\n",
       "      <td>1.78</td>\n",
       "      <td>33000</td>\n",
       "    </tr>\n",
       "    <tr>\n",
       "      <th>1</th>\n",
       "      <td>Color</td>\n",
       "      <td>Gore Verbinski</td>\n",
       "      <td>302</td>\n",
       "      <td>169</td>\n",
       "      <td>563</td>\n",
       "      <td>1000</td>\n",
       "      <td>Orlando Bloom</td>\n",
       "      <td>40000</td>\n",
       "      <td>309404152</td>\n",
       "      <td>Action|Adventure|Fantasy</td>\n",
       "      <td>...</td>\n",
       "      <td>1238</td>\n",
       "      <td>English</td>\n",
       "      <td>USA</td>\n",
       "      <td>PG-13</td>\n",
       "      <td>300000000</td>\n",
       "      <td>2007</td>\n",
       "      <td>5000</td>\n",
       "      <td>7.1</td>\n",
       "      <td>2.35</td>\n",
       "      <td>0</td>\n",
       "    </tr>\n",
       "    <tr>\n",
       "      <th>2</th>\n",
       "      <td>Color</td>\n",
       "      <td>Sam Mendes</td>\n",
       "      <td>602</td>\n",
       "      <td>148</td>\n",
       "      <td>0</td>\n",
       "      <td>161</td>\n",
       "      <td>Rory Kinnear</td>\n",
       "      <td>11000</td>\n",
       "      <td>200074175</td>\n",
       "      <td>Action|Adventure|Thriller</td>\n",
       "      <td>...</td>\n",
       "      <td>994</td>\n",
       "      <td>English</td>\n",
       "      <td>UK</td>\n",
       "      <td>PG-13</td>\n",
       "      <td>245000000</td>\n",
       "      <td>2015</td>\n",
       "      <td>393</td>\n",
       "      <td>6.8</td>\n",
       "      <td>2.35</td>\n",
       "      <td>85000</td>\n",
       "    </tr>\n",
       "    <tr>\n",
       "      <th>3</th>\n",
       "      <td>Color</td>\n",
       "      <td>Christopher Nolan</td>\n",
       "      <td>813</td>\n",
       "      <td>164</td>\n",
       "      <td>22000</td>\n",
       "      <td>23000</td>\n",
       "      <td>Christian Bale</td>\n",
       "      <td>27000</td>\n",
       "      <td>448130642</td>\n",
       "      <td>Action|Thriller</td>\n",
       "      <td>...</td>\n",
       "      <td>2701</td>\n",
       "      <td>English</td>\n",
       "      <td>USA</td>\n",
       "      <td>PG-13</td>\n",
       "      <td>250000000</td>\n",
       "      <td>2012</td>\n",
       "      <td>23000</td>\n",
       "      <td>8.5</td>\n",
       "      <td>2.35</td>\n",
       "      <td>164000</td>\n",
       "    </tr>\n",
       "    <tr>\n",
       "      <th>4</th>\n",
       "      <td>49</td>\n",
       "      <td>Doug Walker</td>\n",
       "      <td>49</td>\n",
       "      <td>49</td>\n",
       "      <td>131</td>\n",
       "      <td>49</td>\n",
       "      <td>Rob Walker</td>\n",
       "      <td>131</td>\n",
       "      <td>49</td>\n",
       "      <td>Documentary</td>\n",
       "      <td>...</td>\n",
       "      <td>49</td>\n",
       "      <td>49</td>\n",
       "      <td>49</td>\n",
       "      <td>49</td>\n",
       "      <td>49</td>\n",
       "      <td>49</td>\n",
       "      <td>12</td>\n",
       "      <td>7.1</td>\n",
       "      <td>49.00</td>\n",
       "      <td>0</td>\n",
       "    </tr>\n",
       "  </tbody>\n",
       "</table>\n",
       "<p>5 rows × 28 columns</p>\n",
       "</div>"
      ],
      "text/plain": [
       "   color      director_name  num_critic_for_reviews  duration  \\\n",
       "0  Color      James Cameron                     723       178   \n",
       "1  Color     Gore Verbinski                     302       169   \n",
       "2  Color         Sam Mendes                     602       148   \n",
       "3  Color  Christopher Nolan                     813       164   \n",
       "4     49        Doug Walker                      49        49   \n",
       "\n",
       "   director_facebook_likes  actor_3_facebook_likes      actor_2_name  \\\n",
       "0                        0                     855  Joel David Moore   \n",
       "1                      563                    1000     Orlando Bloom   \n",
       "2                        0                     161      Rory Kinnear   \n",
       "3                    22000                   23000    Christian Bale   \n",
       "4                      131                      49        Rob Walker   \n",
       "\n",
       "   actor_1_facebook_likes      gross                           genres  ...  \\\n",
       "0                    1000  760505847  Action|Adventure|Fantasy|Sci-Fi  ...   \n",
       "1                   40000  309404152         Action|Adventure|Fantasy  ...   \n",
       "2                   11000  200074175        Action|Adventure|Thriller  ...   \n",
       "3                   27000  448130642                  Action|Thriller  ...   \n",
       "4                     131         49                      Documentary  ...   \n",
       "\n",
       "  num_user_for_reviews language  country  content_rating     budget  \\\n",
       "0                 3054  English      USA           PG-13  237000000   \n",
       "1                 1238  English      USA           PG-13  300000000   \n",
       "2                  994  English       UK           PG-13  245000000   \n",
       "3                 2701  English      USA           PG-13  250000000   \n",
       "4                   49       49       49              49         49   \n",
       "\n",
       "   title_year actor_2_facebook_likes imdb_score  aspect_ratio  \\\n",
       "0        2009                    936        7.9          1.78   \n",
       "1        2007                   5000        7.1          2.35   \n",
       "2        2015                    393        6.8          2.35   \n",
       "3        2012                  23000        8.5          2.35   \n",
       "4          49                     12        7.1         49.00   \n",
       "\n",
       "  movie_facebook_likes  \n",
       "0                33000  \n",
       "1                    0  \n",
       "2                85000  \n",
       "3               164000  \n",
       "4                    0  \n",
       "\n",
       "[5 rows x 28 columns]"
      ]
     },
     "execution_count": 1,
     "metadata": {},
     "output_type": "execute_result"
    }
   ],
   "source": [
    "%matplotlib inline\n",
    "from copy import deepcopy\n",
    "import numpy as np\n",
    "import pandas as pd\n",
    "from matplotlib import pyplot as plt\n",
    "#plt.rcParams['figure.figsize'] = (16,9)\n",
    "plt.style.use('ggplot')\n",
    "#importing the dataset\n",
    "data = pd.read_csv(r'C:\\Users\\saqla\\Desktop\\Python Certification for Data Science\\In Class Practice Codes\\10. Module 10\\m10_toupload\\movie_metadata1.csv')\n",
    "print (data.shape)\n",
    "data.head()"
   ]
  },
  {
   "cell_type": "code",
   "execution_count": 2,
   "metadata": {},
   "outputs": [
    {
     "data": {
      "text/plain": [
       "<matplotlib.collections.PathCollection at 0x1ea1d21c310>"
      ]
     },
     "execution_count": 2,
     "metadata": {},
     "output_type": "execute_result"
    },
    {
     "data": {
      "image/png": "[encoded data removed]",
      "text/plain": [
       "<Figure size 1152x576 with 1 Axes>"
      ]
     },
     "metadata": {},
     "output_type": "display_data"
    }
   ],
   "source": [
    "#Getting the values and plotting it\n",
    "f1 = data['director_facebook_likes'].values\n",
    "f2 = data['actor_3_facebook_likes'].values\n",
    "X = np.array(list(zip(f1, f2)))\n",
    "plt.figure(figsize=(16,8))\n",
    "plt.scatter(f1, f2, c = 'black', s=50)"
   ]
  },
  {
   "cell_type": "code",
   "execution_count": 3,
   "metadata": {},
   "outputs": [
    {
     "data": {
      "text/plain": [
       "array([[   0,  855],\n",
       "       [ 563, 1000],\n",
       "       [   0,  161],\n",
       "       ...,\n",
       "       [   0,    0],\n",
       "       [   0,  489],\n",
       "       [  16,   16]], dtype=int64)"
      ]
     },
     "execution_count": 3,
     "metadata": {},
     "output_type": "execute_result"
    }
   ],
   "source": [
    "X"
   ]
  },
  {
   "cell_type": "code",
   "execution_count": 4,
   "metadata": {},
   "outputs": [
    {
     "data": {
      "text/plain": [
       "23000"
      ]
     },
     "execution_count": 4,
     "metadata": {},
     "output_type": "execute_result"
    }
   ],
   "source": [
    " np.max(X)"
   ]
  },
  {
   "cell_type": "code",
   "execution_count": 5,
   "metadata": {},
   "outputs": [
    {
     "name": "stdout",
     "output_type": "stream",
     "text": [
      "[1.41421356 2.23606798 5.        ]\n",
      "[3.74165739 4.24264069]\n"
     ]
    }
   ],
   "source": [
    "c = np.array([[ 1, 2, 3],\n",
    "              [-1, 1, 4]])\n",
    "print(np.linalg.norm(c, axis=0))  # columns\n",
    "print(np.linalg.norm(c, axis=1))  # rows"
   ]
  },
  {
   "cell_type": "code",
   "execution_count": 6,
   "metadata": {},
   "outputs": [
    {
     "data": {
      "text/plain": [
       "array([[17225., 21777.],\n",
       "       [20310., 17074.],\n",
       "       [15060., 11919.],\n",
       "       [21721.,  6971.],\n",
       "       [  393., 21000.]], dtype=float32)"
      ]
     },
     "execution_count": 6,
     "metadata": {},
     "output_type": "execute_result"
    }
   ],
   "source": [
    "#Euclidean distance calculator\n",
    "def dist(a,b, ax =1):\n",
    "    return np.linalg.norm(a-b,axis = ax)\n",
    "#Number of clusters\n",
    "k =5\n",
    "#X coordinates of random centroids\n",
    "C_x = np.random.randint(0, np.max(X)-20, size = k)\n",
    "#Y coordinates of random centroids\n",
    "C_y = np.random.randint(0, np.max(X)-20, size = k)\n",
    "C = np.array(list(zip(C_x, C_y)),dtype = np.float32)\n",
    "C"
   ]
  },
  {
   "cell_type": "code",
   "execution_count": 7,
   "metadata": {},
   "outputs": [
    {
     "data": {
      "text/plain": [
       "<matplotlib.collections.PathCollection at 0x1ea1dbe4820>"
      ]
     },
     "execution_count": 7,
     "metadata": {},
     "output_type": "execute_result"
    },
    {
     "data": {
      "image/png": "[encoded data removed]",
      "text/plain": [
       "<Figure size 432x288 with 1 Axes>"
      ]
     },
     "metadata": {},
     "output_type": "display_data"
    }
   ],
   "source": [
    "#plotting along with the Centroids\n",
    "plt.scatter(f1,f2, c = '#050505', s = 7)\n",
    "plt.scatter(C_x, C_y, marker ='*', s = 200, c = 'g')"
   ]
  },
  {
   "cell_type": "code",
   "execution_count": 8,
   "metadata": {},
   "outputs": [
    {
     "data": {
      "text/plain": [
       "5043"
      ]
     },
     "execution_count": 8,
     "metadata": {},
     "output_type": "execute_result"
    }
   ],
   "source": [
    "# Cluster Lables(0, 1, 2, 3, 4)\n",
    "len(X)"
   ]
  },
  {
   "cell_type": "code",
   "execution_count": 10,
   "metadata": {},
   "outputs": [
    {
     "data": {
      "text/plain": [
       "array([2., 2., 2., ..., 2., 2., 2.])"
      ]
     },
     "execution_count": 10,
     "metadata": {},
     "output_type": "execute_result"
    }
   ],
   "source": [
    "clusters"
   ]
  },
  {
   "cell_type": "code",
   "execution_count": 9,
   "metadata": {},
   "outputs": [
    {
     "data": {
      "text/plain": [
       "<matplotlib.collections.PathCollection at 0x1ea1d92ffa0>"
      ]
     },
     "execution_count": 9,
     "metadata": {},
     "output_type": "execute_result"
    },
    {
     "data": {
      "image/png": "[encoded data removed]",
      "text/plain": [
       "<Figure size 1152x576 with 1 Axes>"
      ]
     },
     "metadata": {},
     "output_type": "display_data"
    }
   ],
   "source": [
    "# To store the value of centroids when it updates\n",
    "C_old = np.zeros(C.shape)\n",
    "# Cluster Lables(0, 1, 2, 3, 4)\n",
    "clusters = np.zeros(len(X))\n",
    "# Error func. - Distance between new centroids and old centroids\n",
    "error = dist(C, C_old, None)\n",
    "# Loop will run till the error becomes zero\n",
    "while error != 0:\n",
    "    # Assigning each data point to its closest cluster\n",
    "    for i in range(len(X)):\n",
    "        distances = dist(X[i], C)\n",
    "        cluster = np.argmin(distances)\n",
    "        clusters[i] = cluster\n",
    "    # Storing the old centroid values\n",
    "    C_old = deepcopy(C)\n",
    "    # Finding the new centroids by taking the average value\n",
    "    for i in range(k):\n",
    "        points = [X[j] for j in range(len(X)) if clusters[j] == i]\n",
    "        C[i] = np.mean(points, axis=0)\n",
    "    error = dist(C, C_old, None)\n",
    "\n",
    "colors = ['r', 'g', 'b', 'y', 'c', 'm']\n",
    "fig, ax = plt.subplots(figsize=(16,8))\n",
    "for i in range(k):\n",
    "        points = np.array([X[j] for j in range(len(X)) if clusters[j] == i])\n",
    "        ax.scatter(points[:, 0], points[:, 1], s=7, c=colors[i])\n",
    "ax.scatter(C[:, 0], C[:, 1], marker='*', s=200, c='#050505')"
   ]
  },
  {
   "cell_type": "code",
   "execution_count": null,
   "metadata": {},
   "outputs": [],
   "source": []
  }
 ],
 "metadata": {
  "kernelspec": {
   "display_name": "Python 3",
   "language": "python",
   "name": "python3"
  },
  "language_info": {
   "codemirror_mode": {
    "name": "ipython",
    "version": 3
   },
   "file_extension": ".py",
   "mimetype": "text/x-python",
   "name": "python",
   "nbconvert_exporter": "python",
   "pygments_lexer": "ipython3",
   "version": "3.8.3"
  }
 },
 "nbformat": 4,
 "nbformat_minor": 2
}
