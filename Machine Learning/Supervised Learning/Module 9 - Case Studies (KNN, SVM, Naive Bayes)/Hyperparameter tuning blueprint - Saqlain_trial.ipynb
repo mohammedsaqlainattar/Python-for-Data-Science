{
 "cells": [
  {
   "cell_type": "markdown",
   "metadata": {},
   "source": [
    "### Deciding which Algorithm to use"
   ]
  },
  {
   "cell_type": "code",
   "execution_count": null,
   "metadata": {},
   "outputs": [],
   "source": [
    "from sklearn.naive_bayes import GaussianNB\n",
    "from sklearn.naive_bayes import MultinomialNB\n",
    "from sklearn.linear_model import LogisticRegression\n",
    "from sklearn.tree import DecisionTreeClassifier\n",
    "from sklearn.ensemble import RandomForestClassifier\n",
    "from sklearn import svm\n",
    "from sklearn.neighbors import KNeighborsClassifier"
   ]
  },
  {
   "cell_type": "code",
   "execution_count": null,
   "metadata": {},
   "outputs": [],
   "source": [
    "model_params = {\n",
    "    'g_nb':{'model':GaussianNB(),'param':{}},\n",
    "    'logisticreg':{'model':LogisticRegression(),'param':{'penalty':['l1', 'l2', 'elasticnet', 'none'],\n",
    "                                                        'C':[0.1,0.5,1,5,10,20,50],\n",
    "                                                        'solver':['newton-cg', 'lbfgs', 'liblinear', 'sag', 'saga']}},\n",
    "    'Decision_tree':{'model':DecisionTreeClassifier(),'param':{'criterion' : [\"gini\", \"entropy\"],\n",
    "                                                              'max_depth':list(range(1,15))}},\n",
    "    'Random_forest':{'model':RandomForestClassifier(),'param':{'n_estimators':[50,300,50],'criterion':['gini','entropy']}},\n",
    "    'SVM':{'model':svm.SVC(),'param':{'C':[0.1,0.5,1,10,50,100,500,1000],'kernel':['linear', 'poly', 'rbf', 'sigmoid'],\n",
    "                                     'gamma':['scale', 'auto']}},\n",
    "    'knn':{'model':KNeighborsClassifier(),'param':{'n_neighbors':list(range(5,50,5)),'weights':['uniform', 'distance'],\n",
    "                                                  'algorithm':['auto', 'ball_tree', 'kd_tree', 'brute']}}\n",
    "    \n",
    "}"
   ]
  },
  {
   "cell_type": "code",
   "execution_count": null,
   "metadata": {},
   "outputs": [],
   "source": [
    "from sklearn.model_selection import GridSearchCV\n",
    "import pandas as pd\n",
    "scores_1 = []\n",
    "\n",
    "for model_name, mp in model_params.items():\n",
    "    clf =  GridSearchCV(estimator=mp['model'], param_grid=mp['param'], cv=10)\n",
    "    clf.fit(X, y)\n",
    "    scores_1.append({\n",
    "        'model': model_name,\n",
    "        'best_score': clf.best_score_,\n",
    "        'best_params': clf.best_params_\n",
    "    })\n",
    "    \n",
    "df_1 = pd.DataFrame(scores_1,columns=['model','best_score','best_params'])\n",
    "df_1"
   ]
  }
 ],
 "metadata": {
  "kernelspec": {
   "display_name": "Python 3",
   "language": "python",
   "name": "python3"
  },
  "language_info": {
   "codemirror_mode": {
    "name": "ipython",
    "version": 3
   },
   "file_extension": ".py",
   "mimetype": "text/x-python",
   "name": "python",
   "nbconvert_exporter": "python",
   "pygments_lexer": "ipython3",
   "version": "3.8.3"
  }
 },
 "nbformat": 4,
 "nbformat_minor": 4
}
